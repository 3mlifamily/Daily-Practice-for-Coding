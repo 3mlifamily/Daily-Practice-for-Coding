{
 "cells": [
  {
   "cell_type": "markdown",
   "metadata": {},
   "source": [
    "### Given a string containing just the characters '(', ')', '{', '}', '[' and ']', determine if the input string is valid.\n",
    "\n",
    "### An input string is valid if:\n",
    "\n",
    "### Open brackets must be closed by the same type of brackets.\n",
    "### Open brackets must be closed in the correct order."
   ]
  },
  {
   "cell_type": "code",
   "execution_count": 5,
   "metadata": {},
   "outputs": [
    {
     "data": {
      "text/plain": [
       "False"
      ]
     },
     "execution_count": 5,
     "metadata": {},
     "output_type": "execute_result"
    }
   ],
   "source": [
    "s='({}})'\n",
    "class Solution:\n",
    "    def isValid(self, s: str) -> bool:\n",
    "        if len(s) ==0: return True\n",
    "        dict={'(':')','{':'}','[':']'}\n",
    "        stack=[]\n",
    "        \n",
    "        for i in range(len(s)):\n",
    "            if s[i] in dict:\n",
    "                stack.append(dict[s[i]])\n",
    "            elif len(stack)==0: return False\n",
    "            elif s[i] != stack[-1]: return False\n",
    "\n",
    "            elif s[i] == stack[-1]:\n",
    "                stack.pop()\n",
    "                    \n",
    "        if len(stack) == 0: return True\n",
    "        else: return False\n",
    "Solution.isValid(0,s)\n",
    "# Runtime: 24 ms, faster than 99.67% of Python3 online submissions for Valid Parentheses.\n",
    "# Memory Usage: 12.9 MB, less than 100.00% of Python3 online submissions for Valid Parentheses."
   ]
  },
  {
   "cell_type": "markdown",
   "metadata": {},
   "source": [
    "### Key Point\n",
    "#### Using stack, it meets requirements pop out elements and at last exmaine if there is elements left\n",
    "### Important:\n",
    "### Consider every case of situations and edge cases!!!!"
   ]
  }
 ],
 "metadata": {
  "kernelspec": {
   "display_name": "Python 3",
   "language": "python",
   "name": "python3"
  },
  "language_info": {
   "codemirror_mode": {
    "name": "ipython",
    "version": 3
   },
   "file_extension": ".py",
   "mimetype": "text/x-python",
   "name": "python",
   "nbconvert_exporter": "python",
   "pygments_lexer": "ipython3",
   "version": "3.7.3"
  }
 },
 "nbformat": 4,
 "nbformat_minor": 2
}
