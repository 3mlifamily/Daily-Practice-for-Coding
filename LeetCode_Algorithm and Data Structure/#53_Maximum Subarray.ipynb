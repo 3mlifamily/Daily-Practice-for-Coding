{
 "cells": [
  {
   "cell_type": "markdown",
   "metadata": {},
   "source": [
    "### Given an integer array nums, find the contiguous subarray\n",
    "### (containing at least one number) which has the largest sum and return its sum.\n",
    "### "
   ]
  },
  {
   "cell_type": "code",
   "execution_count": 2,
   "metadata": {},
   "outputs": [
    {
     "data": {
      "text/plain": [
       "6"
      ]
     },
     "execution_count": 2,
     "metadata": {},
     "output_type": "execute_result"
    }
   ],
   "source": [
    "nums=[-2,1,-3,4,-1,2,1,-5,4]\n",
    "class Solution:\n",
    "    def maxSubArray(self, nums) -> int:\n",
    "        if len(nums)==0: return 0\n",
    "        length=len(nums)\n",
    "        sum = None\n",
    "        temp=0\n",
    "        for i in nums:\n",
    "            temp = max(i,temp+i)\n",
    "            if sum is None or temp > sum:\n",
    "                sum=temp\n",
    "        return sum\n",
    "    \n",
    "Solution.maxSubArray(0,nums)"
   ]
  },
  {
   "cell_type": "markdown",
   "metadata": {},
   "source": [
    "### Key Point\n",
    "#### When deciding whether to add a value, use the previous sum to \n",
    "#### compare the current single value. WHY???"
   ]
  }
 ],
 "metadata": {
  "kernelspec": {
   "display_name": "Python 3",
   "language": "python",
   "name": "python3"
  },
  "language_info": {
   "codemirror_mode": {
    "name": "ipython",
    "version": 3
   },
   "file_extension": ".py",
   "mimetype": "text/x-python",
   "name": "python",
   "nbconvert_exporter": "python",
   "pygments_lexer": "ipython3",
   "version": "3.7.3"
  }
 },
 "nbformat": 4,
 "nbformat_minor": 2
}
