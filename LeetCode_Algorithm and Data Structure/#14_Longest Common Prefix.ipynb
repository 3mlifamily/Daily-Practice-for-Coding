{
 "cells": [
  {
   "cell_type": "markdown",
   "metadata": {},
   "source": [
    "### Write a function to find the longest common prefix string amongst an array of strings.\n",
    "\n",
    "### If there is no common prefix, return an empty string \"\"."
   ]
  },
  {
   "cell_type": "code",
   "execution_count": 21,
   "metadata": {},
   "outputs": [
    {
     "data": {
      "text/plain": [
       "'lush'"
      ]
     },
     "execution_count": 21,
     "metadata": {},
     "output_type": "execute_result"
    }
   ],
   "source": [
    "s_list = ['lushuhan','lushu','lush']\n",
    "class Solution:\n",
    "    def longestCommonPrefix(self, strs) -> str:\n",
    "        loc=0\n",
    "        n = len(strs)\n",
    "        if n == 0: return ''\n",
    "        min_word,max_word = strs[0],strs[0]  \n",
    "        for i in strs:\n",
    "            if min_word > i: min_word = i\n",
    "            if max_word < i: max_word = i\n",
    "        \n",
    "        iteration = min(len(min_word),len(max_word))\n",
    "        for j in range(iteration):\n",
    "            if min_word[j] == max_word[j]:\n",
    "                loc+=1\n",
    "            else: return min_word[:loc]\n",
    "        return min_word[:loc]\n",
    "Solution.longestCommonPrefix(0,s_list)"
   ]
  },
  {
   "cell_type": "markdown",
   "metadata": {},
   "source": [
    "### Key Point:\n",
    "#### When a sequence(`list` or `number`) has order can can be compared.\n",
    "#### If the `min()` = `max()` then all the values are equal"
   ]
  }
 ],
 "metadata": {
  "kernelspec": {
   "display_name": "Python 3",
   "language": "python",
   "name": "python3"
  },
  "language_info": {
   "codemirror_mode": {
    "name": "ipython",
    "version": 3
   },
   "file_extension": ".py",
   "mimetype": "text/x-python",
   "name": "python",
   "nbconvert_exporter": "python",
   "pygments_lexer": "ipython3",
   "version": "3.7.3"
  }
 },
 "nbformat": 4,
 "nbformat_minor": 2
}
