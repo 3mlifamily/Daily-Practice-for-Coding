{
 "cells": [
  {
   "cell_type": "code",
   "execution_count": 1,
   "metadata": {},
   "outputs": [],
   "source": [
    "import pandas as pd\n",
    "import numpy as np"
   ]
  },
  {
   "cell_type": "markdown",
   "metadata": {},
   "source": [
    "#### For example, two is written as II in Roman numeral, just two one's added together. Twelve is written as, XII, which is simply X + II. The number twenty seven is written as XXVII, which is XX + V + II.\n",
    "\n",
    "#### Roman numerals are usually written largest to smallest from left to right. However, the numeral for four is not IIII. Instead, the number four is written as IV. Because the one is before the five we subtract it making four. The same principle applies to the number nine, which is written as IX. There are six instances where subtraction is used:\n",
    "\n",
    "#### I can be placed before V (5) and X (10) to make 4 and 9. \n",
    "#### X can be placed before L (50) and C (100) to make 40 and 90. \n",
    "#### C can be placed before D (500) and M (1000) to make 400 and 900.\n",
    "#### Given a roman numeral, convert it to an integer. Input is guaranteed to be within the range from 1 to 3999."
   ]
  },
  {
   "cell_type": "code",
   "execution_count": 2,
   "metadata": {},
   "outputs": [
    {
     "data": {
      "text/plain": [
       "2004"
      ]
     },
     "execution_count": 2,
     "metadata": {},
     "output_type": "execute_result"
    }
   ],
   "source": [
    "s='IVMM'\n",
    "class Solution:\n",
    "    def romanToInt(self, s: str) -> int:\n",
    "        dict={'I':1,'V':5,'X':10,'L':50,'C':100,'D':500,'M':1000,\\\n",
    "              'IV':4,'IX':9,'XL':40,'XC':90,'CD':400,'CM':900}\n",
    "        result = 0\n",
    "        i=0\n",
    "        while i < len(s):\n",
    "            if i==len(s)-1:\n",
    "                result+=dict[s[i]]\n",
    "                i += 1\n",
    "            else:\n",
    "                if s[i]+s[i+1] in dict:\n",
    "                    result += dict[s[i]+s[i+1]]\n",
    "                    i +=2\n",
    "                else:\n",
    "                    result += dict[s[i]]\n",
    "                    i+=1\n",
    "        return result\n",
    "\n",
    "# Runtime: 44 ms, faster than 97.17% of Python3 online submissions for Roman to Integer.\n",
    "Solution.romanToInt(0,s)"
   ]
  },
  {
   "cell_type": "markdown",
   "metadata": {},
   "source": [
    "### Key point:\n",
    "#### To deal with `IV` etc. \n",
    "#### I put these into dictionary along with others and examine them each time make the transformation."
   ]
  }
 ],
 "metadata": {
  "kernelspec": {
   "display_name": "Python 3",
   "language": "python",
   "name": "python3"
  },
  "language_info": {
   "codemirror_mode": {
    "name": "ipython",
    "version": 3
   },
   "file_extension": ".py",
   "mimetype": "text/x-python",
   "name": "python",
   "nbconvert_exporter": "python",
   "pygments_lexer": "ipython3",
   "version": "3.7.3"
  }
 },
 "nbformat": 4,
 "nbformat_minor": 2
}
