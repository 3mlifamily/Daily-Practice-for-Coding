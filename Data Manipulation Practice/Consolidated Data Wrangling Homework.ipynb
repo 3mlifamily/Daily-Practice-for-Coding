{
 "cells": [
  {
   "cell_type": "markdown",
   "metadata": {},
   "source": [
    "## Data Wrangling Homework\n",
    "### Team Members:\n",
    "**1. Hong, Linshuo (lshong@ucdavis.edu)**<br>\n",
    "**2. Loretizo, John Elmer (jloretizo@ucdavis.edu)**<br>\n",
    "**3. Lu, Shuhan (hanlu@ucdavis.edu)**<br>\n",
    "**4. Ni, Kelly (kdni@ucdavis.edu)**<br>\n",
    "**5. Yang, Miaoqi (mqiyang@ucdavis.edu)**"
   ]
  },
  {
   "cell_type": "markdown",
   "metadata": {},
   "source": [
    "<div class=\"alert alert-block alert-warning\">\n",
    "<b>This is your style guide!</b> If you want to add something that's not found in the guide below. You can take it from this guide.\n",
    "</div> "
   ]
  },
  {
   "cell_type": "markdown",
   "metadata": {},
   "source": [
    "## General Guide!\n",
    "### Double Click on me to get the syntax!\n",
    "<font size=12 color='red'>Adjust Font size</font>\n",
    "# H1\n",
    "## H2\n",
    "### H3\n",
    "\n",
    "This is a list:\n",
    "-  This is list a\n",
    "-  This is list b <br>\n",
    "<br>\n",
    "\n",
    "Indent Something:\n",
    "> a. Apple <br>\n",
    "> b. Orange <br>\n",
    "\n",
    "*italic* <br>\n",
    "**bold** <br>\n",
    "***bold_italic*** <br>"
   ]
  },
  {
   "cell_type": "markdown",
   "metadata": {},
   "source": [
    "### 1. Exercise using `apply` family of functions\n",
    "Create a dataframe containing two columns: `Method A` and `Method B`. Populate the column `Method A` with values 1 through 9 and column `Method B` with values 10 through 18."
   ]
  },
  {
   "cell_type": "code",
   "execution_count": 2,
   "metadata": {},
   "outputs": [
    {
     "ename": "SyntaxError",
     "evalue": "invalid syntax (<ipython-input-2-2bfb10a25004>, line 1)",
     "output_type": "error",
     "traceback": [
      "\u001b[0;36m  File \u001b[0;32m\"<ipython-input-2-2bfb10a25004>\"\u001b[0;36m, line \u001b[0;32m1\u001b[0m\n\u001b[0;31m    exercise1 <- data.frame(\"Method A\"=c(1:9),\u001b[0m\n\u001b[0m                                          ^\u001b[0m\n\u001b[0;31mSyntaxError\u001b[0m\u001b[0;31m:\u001b[0m invalid syntax\n"
     ]
    }
   ],
   "source": [
    "exercise1 <- data.frame(\"Method A\"=c(1:9),\n",
    "                        \"Method B\"=c(10:18))\n",
    "exercise1"
   ]
  },
  {
   "cell_type": "markdown",
   "metadata": {},
   "source": [
    "***a.  Using `apply()`, find the row means.***"
   ]
  },
  {
   "cell_type": "code",
   "execution_count": 2,
   "metadata": {},
   "outputs": [
    {
     "data": {
      "text/html": [
       "<ol class=list-inline>\n",
       "\t<li>5.5</li>\n",
       "\t<li>6.5</li>\n",
       "\t<li>7.5</li>\n",
       "\t<li>8.5</li>\n",
       "\t<li>9.5</li>\n",
       "\t<li>10.5</li>\n",
       "\t<li>11.5</li>\n",
       "\t<li>12.5</li>\n",
       "\t<li>13.5</li>\n",
       "</ol>\n"
      ],
      "text/latex": [
       "\\begin{enumerate*}\n",
       "\\item 5.5\n",
       "\\item 6.5\n",
       "\\item 7.5\n",
       "\\item 8.5\n",
       "\\item 9.5\n",
       "\\item 10.5\n",
       "\\item 11.5\n",
       "\\item 12.5\n",
       "\\item 13.5\n",
       "\\end{enumerate*}\n"
      ],
      "text/markdown": [
       "1. 5.5\n",
       "2. 6.5\n",
       "3. 7.5\n",
       "4. 8.5\n",
       "5. 9.5\n",
       "6. 10.5\n",
       "7. 11.5\n",
       "8. 12.5\n",
       "9. 13.5\n",
       "\n",
       "\n"
      ],
      "text/plain": [
       "[1]  5.5  6.5  7.5  8.5  9.5 10.5 11.5 12.5 13.5"
      ]
     },
     "metadata": {},
     "output_type": "display_data"
    }
   ],
   "source": [
    "apply(X = exercise1, MARGIN = 1, FUN = mean)"
   ]
  },
  {
   "cell_type": "markdown",
   "metadata": {},
   "source": [
    "***b. Using `apply()`, find the column means.***"
   ]
  },
  {
   "cell_type": "code",
   "execution_count": 3,
   "metadata": {},
   "outputs": [
    {
     "data": {
      "text/html": [
       "<dl class=dl-horizontal>\n",
       "\t<dt>Method.A</dt>\n",
       "\t\t<dd>5</dd>\n",
       "\t<dt>Method.B</dt>\n",
       "\t\t<dd>14</dd>\n",
       "</dl>\n"
      ],
      "text/latex": [
       "\\begin{description*}\n",
       "\\item[Method.A] 5\n",
       "\\item[Method.B] 14\n",
       "\\end{description*}\n"
      ],
      "text/markdown": [
       "Method.A\n",
       ":   5Method.B\n",
       ":   14\n",
       "\n"
      ],
      "text/plain": [
       "Method.A Method.B \n",
       "       5       14 "
      ]
     },
     "metadata": {},
     "output_type": "display_data"
    }
   ],
   "source": [
    "apply(X = exercise1, MARGIN = 2, FUN = mean)"
   ]
  },
  {
   "cell_type": "markdown",
   "metadata": {},
   "source": [
    "***c. Using `apply()`, find the column sums.***"
   ]
  },
  {
   "cell_type": "code",
   "execution_count": 4,
   "metadata": {},
   "outputs": [
    {
     "data": {
      "text/html": [
       "<dl class=dl-horizontal>\n",
       "\t<dt>Method.A</dt>\n",
       "\t\t<dd>45</dd>\n",
       "\t<dt>Method.B</dt>\n",
       "\t\t<dd>126</dd>\n",
       "</dl>\n"
      ],
      "text/latex": [
       "\\begin{description*}\n",
       "\\item[Method.A] 45\n",
       "\\item[Method.B] 126\n",
       "\\end{description*}\n"
      ],
      "text/markdown": [
       "Method.A\n",
       ":   45Method.B\n",
       ":   126\n",
       "\n"
      ],
      "text/plain": [
       "Method.A Method.B \n",
       "      45      126 "
      ]
     },
     "metadata": {},
     "output_type": "display_data"
    }
   ],
   "source": [
    "apply(X = exercise1, MARGIN = 2, FUN = sum)"
   ]
  },
  {
   "cell_type": "markdown",
   "metadata": {},
   "source": [
    "***d. Using `apply()`, sort the columns.***"
   ]
  },
  {
   "cell_type": "code",
   "execution_count": 5,
   "metadata": {},
   "outputs": [
    {
     "data": {
      "text/html": [
       "<table>\n",
       "<caption>A matrix: 9 × 2 of type int</caption>\n",
       "<thead>\n",
       "\t<tr><th scope=col>Method.A</th><th scope=col>Method.B</th></tr>\n",
       "</thead>\n",
       "<tbody>\n",
       "\t<tr><td>9</td><td>18</td></tr>\n",
       "\t<tr><td>8</td><td>17</td></tr>\n",
       "\t<tr><td>7</td><td>16</td></tr>\n",
       "\t<tr><td>6</td><td>15</td></tr>\n",
       "\t<tr><td>5</td><td>14</td></tr>\n",
       "\t<tr><td>4</td><td>13</td></tr>\n",
       "\t<tr><td>3</td><td>12</td></tr>\n",
       "\t<tr><td>2</td><td>11</td></tr>\n",
       "\t<tr><td>1</td><td>10</td></tr>\n",
       "</tbody>\n",
       "</table>\n"
      ],
      "text/latex": [
       "A matrix: 9 × 2 of type int\n",
       "\\begin{tabular}{ll}\n",
       " Method.A & Method.B\\\\\n",
       "\\hline\n",
       "\t 9 & 18\\\\\n",
       "\t 8 & 17\\\\\n",
       "\t 7 & 16\\\\\n",
       "\t 6 & 15\\\\\n",
       "\t 5 & 14\\\\\n",
       "\t 4 & 13\\\\\n",
       "\t 3 & 12\\\\\n",
       "\t 2 & 11\\\\\n",
       "\t 1 & 10\\\\\n",
       "\\end{tabular}\n"
      ],
      "text/markdown": [
       "\n",
       "A matrix: 9 × 2 of type int\n",
       "\n",
       "| Method.A | Method.B |\n",
       "|---|---|\n",
       "| 9 | 18 |\n",
       "| 8 | 17 |\n",
       "| 7 | 16 |\n",
       "| 6 | 15 |\n",
       "| 5 | 14 |\n",
       "| 4 | 13 |\n",
       "| 3 | 12 |\n",
       "| 2 | 11 |\n",
       "| 1 | 10 |\n",
       "\n"
      ],
      "text/plain": [
       "      Method.A Method.B\n",
       " [1,] 9        18      \n",
       " [2,] 8        17      \n",
       " [3,] 7        16      \n",
       " [4,] 6        15      \n",
       " [5,] 5        14      \n",
       " [6,] 4        13      \n",
       " [7,] 3        12      \n",
       " [8,] 2        11      \n",
       " [9,] 1        10      "
      ]
     },
     "metadata": {},
     "output_type": "display_data"
    }
   ],
   "source": [
    "apply(X = exercise1, MARGIN = 2, FUN = sort, decreasing = TRUE)"
   ]
  },
  {
   "cell_type": "markdown",
   "metadata": {},
   "source": [
    "***e. Using `apply()`, find the product in each row.***"
   ]
  },
  {
   "cell_type": "code",
   "execution_count": 6,
   "metadata": {},
   "outputs": [
    {
     "data": {
      "text/html": [
       "<ol class=list-inline>\n",
       "\t<li>10</li>\n",
       "\t<li>22</li>\n",
       "\t<li>36</li>\n",
       "\t<li>52</li>\n",
       "\t<li>70</li>\n",
       "\t<li>90</li>\n",
       "\t<li>112</li>\n",
       "\t<li>136</li>\n",
       "\t<li>162</li>\n",
       "</ol>\n"
      ],
      "text/latex": [
       "\\begin{enumerate*}\n",
       "\\item 10\n",
       "\\item 22\n",
       "\\item 36\n",
       "\\item 52\n",
       "\\item 70\n",
       "\\item 90\n",
       "\\item 112\n",
       "\\item 136\n",
       "\\item 162\n",
       "\\end{enumerate*}\n"
      ],
      "text/markdown": [
       "1. 10\n",
       "2. 22\n",
       "3. 36\n",
       "4. 52\n",
       "5. 70\n",
       "6. 90\n",
       "7. 112\n",
       "8. 136\n",
       "9. 162\n",
       "\n",
       "\n"
      ],
      "text/plain": [
       "[1]  10  22  36  52  70  90 112 136 162"
      ]
     },
     "metadata": {},
     "output_type": "display_data"
    }
   ],
   "source": [
    "apply(X = exercise1, MARGIN = 1, FUN = prod)"
   ]
  },
  {
   "cell_type": "markdown",
   "metadata": {},
   "source": [
    "***f. `Print` the columns of the dataset using the `apply()` function.***"
   ]
  },
  {
   "cell_type": "code",
   "execution_count": 7,
   "metadata": {},
   "outputs": [
    {
     "name": "stdout",
     "output_type": "stream",
     "text": [
      "[1] 1 2 3 4 5 6 7 8 9\n",
      "[1] 10 11 12 13 14 15 16 17 18\n"
     ]
    },
    {
     "data": {
      "text/html": [
       "<table>\n",
       "<caption>A matrix: 9 × 2 of type int</caption>\n",
       "<thead>\n",
       "\t<tr><th scope=col>Method.A</th><th scope=col>Method.B</th></tr>\n",
       "</thead>\n",
       "<tbody>\n",
       "\t<tr><td>1</td><td>10</td></tr>\n",
       "\t<tr><td>2</td><td>11</td></tr>\n",
       "\t<tr><td>3</td><td>12</td></tr>\n",
       "\t<tr><td>4</td><td>13</td></tr>\n",
       "\t<tr><td>5</td><td>14</td></tr>\n",
       "\t<tr><td>6</td><td>15</td></tr>\n",
       "\t<tr><td>7</td><td>16</td></tr>\n",
       "\t<tr><td>8</td><td>17</td></tr>\n",
       "\t<tr><td>9</td><td>18</td></tr>\n",
       "</tbody>\n",
       "</table>\n"
      ],
      "text/latex": [
       "A matrix: 9 × 2 of type int\n",
       "\\begin{tabular}{ll}\n",
       " Method.A & Method.B\\\\\n",
       "\\hline\n",
       "\t 1 & 10\\\\\n",
       "\t 2 & 11\\\\\n",
       "\t 3 & 12\\\\\n",
       "\t 4 & 13\\\\\n",
       "\t 5 & 14\\\\\n",
       "\t 6 & 15\\\\\n",
       "\t 7 & 16\\\\\n",
       "\t 8 & 17\\\\\n",
       "\t 9 & 18\\\\\n",
       "\\end{tabular}\n"
      ],
      "text/markdown": [
       "\n",
       "A matrix: 9 × 2 of type int\n",
       "\n",
       "| Method.A | Method.B |\n",
       "|---|---|\n",
       "| 1 | 10 |\n",
       "| 2 | 11 |\n",
       "| 3 | 12 |\n",
       "| 4 | 13 |\n",
       "| 5 | 14 |\n",
       "| 6 | 15 |\n",
       "| 7 | 16 |\n",
       "| 8 | 17 |\n",
       "| 9 | 18 |\n",
       "\n"
      ],
      "text/plain": [
       "      Method.A Method.B\n",
       " [1,] 1        10      \n",
       " [2,] 2        11      \n",
       " [3,] 3        12      \n",
       " [4,] 4        13      \n",
       " [5,] 5        14      \n",
       " [6,] 6        15      \n",
       " [7,] 7        16      \n",
       " [8,] 8        17      \n",
       " [9,] 9        18      "
      ]
     },
     "metadata": {},
     "output_type": "display_data"
    }
   ],
   "source": [
    "apply(X = exercise1, MARGIN = 2, function(x) print(x))"
   ]
  },
  {
   "cell_type": "markdown",
   "metadata": {},
   "source": [
    "***g. Find the `length` of the dataset columns using the `apply()` function.***"
   ]
  },
  {
   "cell_type": "code",
   "execution_count": 8,
   "metadata": {},
   "outputs": [
    {
     "data": {
      "text/html": [
       "<dl class=dl-horizontal>\n",
       "\t<dt>Method.A</dt>\n",
       "\t\t<dd>9</dd>\n",
       "\t<dt>Method.B</dt>\n",
       "\t\t<dd>9</dd>\n",
       "</dl>\n"
      ],
      "text/latex": [
       "\\begin{description*}\n",
       "\\item[Method.A] 9\n",
       "\\item[Method.B] 9\n",
       "\\end{description*}\n"
      ],
      "text/markdown": [
       "Method.A\n",
       ":   9Method.B\n",
       ":   9\n",
       "\n"
      ],
      "text/plain": [
       "Method.A Method.B \n",
       "       9        9 "
      ]
     },
     "metadata": {},
     "output_type": "display_data"
    }
   ],
   "source": [
    "apply(X = exercise1, MARGIN = 2, length)"
   ]
  },
  {
   "cell_type": "markdown",
   "metadata": {},
   "source": [
    "***h. Use `apply()` to find the range of numbers in each column of the dataset.***"
   ]
  },
  {
   "cell_type": "code",
   "execution_count": 9,
   "metadata": {},
   "outputs": [
    {
     "data": {
      "text/html": [
       "<table>\n",
       "<caption>A matrix: 2 × 2 of type int</caption>\n",
       "<thead>\n",
       "\t<tr><th scope=col>Method.A</th><th scope=col>Method.B</th></tr>\n",
       "</thead>\n",
       "<tbody>\n",
       "\t<tr><td>1</td><td>10</td></tr>\n",
       "\t<tr><td>9</td><td>18</td></tr>\n",
       "</tbody>\n",
       "</table>\n"
      ],
      "text/latex": [
       "A matrix: 2 × 2 of type int\n",
       "\\begin{tabular}{ll}\n",
       " Method.A & Method.B\\\\\n",
       "\\hline\n",
       "\t 1 & 10\\\\\n",
       "\t 9 & 18\\\\\n",
       "\\end{tabular}\n"
      ],
      "text/markdown": [
       "\n",
       "A matrix: 2 × 2 of type int\n",
       "\n",
       "| Method.A | Method.B |\n",
       "|---|---|\n",
       "| 1 | 10 |\n",
       "| 9 | 18 |\n",
       "\n"
      ],
      "text/plain": [
       "     Method.A Method.B\n",
       "[1,] 1        10      \n",
       "[2,] 9        18      "
      ]
     },
     "metadata": {},
     "output_type": "display_data"
    }
   ],
   "source": [
    "apply(X = exercise1, MARGIN = 2, range)"
   ]
  }
 ],
 "metadata": {
  "kernelspec": {
   "display_name": "Python 3",
   "language": "python",
   "name": "python3"
  },
  "language_info": {
   "codemirror_mode": {
    "name": "ipython",
    "version": 3
   },
   "file_extension": ".py",
   "mimetype": "text/x-python",
   "name": "python",
   "nbconvert_exporter": "python",
   "pygments_lexer": "ipython3",
   "version": "3.7.3"
  }
 },
 "nbformat": 4,
 "nbformat_minor": 2
}
