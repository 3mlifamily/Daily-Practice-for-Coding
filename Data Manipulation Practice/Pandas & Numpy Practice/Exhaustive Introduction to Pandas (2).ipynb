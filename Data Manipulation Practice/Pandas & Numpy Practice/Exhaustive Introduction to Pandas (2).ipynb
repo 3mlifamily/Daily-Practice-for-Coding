{
 "cells": [
  {
   "cell_type": "code",
   "execution_count": 1,
   "metadata": {},
   "outputs": [],
   "source": [
    "import pandas as pd\n",
    "import numpy as np"
   ]
  },
  {
   "cell_type": "code",
   "execution_count": 2,
   "metadata": {},
   "outputs": [],
   "source": [
    "data_origin = pd.read_csv(\"Data_pandas.csv\")\n",
    "data = data_origin.copy()"
   ]
  },
  {
   "cell_type": "code",
   "execution_count": 3,
   "metadata": {},
   "outputs": [
    {
     "data": {
      "text/html": [
       "<div>\n",
       "<style scoped>\n",
       "    .dataframe tbody tr th:only-of-type {\n",
       "        vertical-align: middle;\n",
       "    }\n",
       "\n",
       "    .dataframe tbody tr th {\n",
       "        vertical-align: top;\n",
       "    }\n",
       "\n",
       "    .dataframe thead th {\n",
       "        text-align: right;\n",
       "    }\n",
       "</style>\n",
       "<table border=\"1\" class=\"dataframe\">\n",
       "  <thead>\n",
       "    <tr style=\"text-align: right;\">\n",
       "      <th></th>\n",
       "      <th>ID</th>\n",
       "      <th>Name</th>\n",
       "      <th>LogInTime</th>\n",
       "      <th>LogOutTime</th>\n",
       "      <th>PurchaseNum</th>\n",
       "      <th>Location</th>\n",
       "      <th>PurchaseAmount</th>\n",
       "      <th>Saving</th>\n",
       "      <th>Purchase</th>\n",
       "    </tr>\n",
       "  </thead>\n",
       "  <tbody>\n",
       "    <tr>\n",
       "      <td>0</td>\n",
       "      <td>101</td>\n",
       "      <td>Jack</td>\n",
       "      <td>2/10/18 13:10</td>\n",
       "      <td>2/10/18 14:30</td>\n",
       "      <td>1</td>\n",
       "      <td>Home</td>\n",
       "      <td>150.0</td>\n",
       "      <td>1500</td>\n",
       "      <td>Yes</td>\n",
       "    </tr>\n",
       "    <tr>\n",
       "      <td>1</td>\n",
       "      <td>101</td>\n",
       "      <td>Jack</td>\n",
       "      <td>2/15/18 18:00</td>\n",
       "      <td>2/15/18 19:00</td>\n",
       "      <td>0</td>\n",
       "      <td>Home</td>\n",
       "      <td>NaN</td>\n",
       "      <td>1350</td>\n",
       "      <td>No</td>\n",
       "    </tr>\n",
       "    <tr>\n",
       "      <td>2</td>\n",
       "      <td>101</td>\n",
       "      <td>Jack</td>\n",
       "      <td>2/15/18 20:00</td>\n",
       "      <td>2/15/18 22:30</td>\n",
       "      <td>0</td>\n",
       "      <td>Home</td>\n",
       "      <td>NaN</td>\n",
       "      <td>1350</td>\n",
       "      <td>No</td>\n",
       "    </tr>\n",
       "    <tr>\n",
       "      <td>3</td>\n",
       "      <td>101</td>\n",
       "      <td>Jack</td>\n",
       "      <td>3/11/18 10:50</td>\n",
       "      <td>3/11/18 15:00</td>\n",
       "      <td>2</td>\n",
       "      <td>Outside</td>\n",
       "      <td>190.0</td>\n",
       "      <td>1350</td>\n",
       "      <td>Yes</td>\n",
       "    </tr>\n",
       "    <tr>\n",
       "      <td>4</td>\n",
       "      <td>101</td>\n",
       "      <td>Jack</td>\n",
       "      <td>3/11/18 15:15</td>\n",
       "      <td>3/11/18 18:00</td>\n",
       "      <td>1</td>\n",
       "      <td>Home</td>\n",
       "      <td>30.0</td>\n",
       "      <td>1160</td>\n",
       "      <td>Yes</td>\n",
       "    </tr>\n",
       "  </tbody>\n",
       "</table>\n",
       "</div>"
      ],
      "text/plain": [
       "    ID  Name      LogInTime     LogOutTime  PurchaseNum Location  \\\n",
       "0  101  Jack  2/10/18 13:10  2/10/18 14:30            1     Home   \n",
       "1  101  Jack  2/15/18 18:00  2/15/18 19:00            0     Home   \n",
       "2  101  Jack  2/15/18 20:00  2/15/18 22:30            0     Home   \n",
       "3  101  Jack  3/11/18 10:50  3/11/18 15:00            2  Outside   \n",
       "4  101  Jack  3/11/18 15:15  3/11/18 18:00            1     Home   \n",
       "\n",
       "   PurchaseAmount  Saving Purchase  \n",
       "0           150.0    1500      Yes  \n",
       "1             NaN    1350       No  \n",
       "2             NaN    1350       No  \n",
       "3           190.0    1350      Yes  \n",
       "4            30.0    1160      Yes  "
      ]
     },
     "execution_count": 3,
     "metadata": {},
     "output_type": "execute_result"
    }
   ],
   "source": [
    "data.head(5)"
   ]
  },
  {
   "cell_type": "markdown",
   "metadata": {},
   "source": [
    "# Select Subset of data from DataFrame"
   ]
  },
  {
   "cell_type": "markdown",
   "metadata": {},
   "source": [
    "## Using position to select  data (`iloc[]`)"
   ]
  },
  {
   "cell_type": "markdown",
   "metadata": {},
   "source": [
    "### All example codes are to select 2nd row to 4th row and 3rd columns to 5th columns."
   ]
  },
  {
   "cell_type": "markdown",
   "metadata": {},
   "source": [
    "#### Select the data point using range index\n"
   ]
  },
  {
   "cell_type": "code",
   "execution_count": 4,
   "metadata": {},
   "outputs": [
    {
     "data": {
      "text/html": [
       "<div>\n",
       "<style scoped>\n",
       "    .dataframe tbody tr th:only-of-type {\n",
       "        vertical-align: middle;\n",
       "    }\n",
       "\n",
       "    .dataframe tbody tr th {\n",
       "        vertical-align: top;\n",
       "    }\n",
       "\n",
       "    .dataframe thead th {\n",
       "        text-align: right;\n",
       "    }\n",
       "</style>\n",
       "<table border=\"1\" class=\"dataframe\">\n",
       "  <thead>\n",
       "    <tr style=\"text-align: right;\">\n",
       "      <th></th>\n",
       "      <th>LogInTime</th>\n",
       "      <th>LogOutTime</th>\n",
       "      <th>PurchaseNum</th>\n",
       "    </tr>\n",
       "  </thead>\n",
       "  <tbody>\n",
       "    <tr>\n",
       "      <td>1</td>\n",
       "      <td>2/15/18 18:00</td>\n",
       "      <td>2/15/18 19:00</td>\n",
       "      <td>0</td>\n",
       "    </tr>\n",
       "    <tr>\n",
       "      <td>2</td>\n",
       "      <td>2/15/18 20:00</td>\n",
       "      <td>2/15/18 22:30</td>\n",
       "      <td>0</td>\n",
       "    </tr>\n",
       "    <tr>\n",
       "      <td>3</td>\n",
       "      <td>3/11/18 10:50</td>\n",
       "      <td>3/11/18 15:00</td>\n",
       "      <td>2</td>\n",
       "    </tr>\n",
       "    <tr>\n",
       "      <td>4</td>\n",
       "      <td>3/11/18 15:15</td>\n",
       "      <td>3/11/18 18:00</td>\n",
       "      <td>1</td>\n",
       "    </tr>\n",
       "  </tbody>\n",
       "</table>\n",
       "</div>"
      ],
      "text/plain": [
       "       LogInTime     LogOutTime  PurchaseNum\n",
       "1  2/15/18 18:00  2/15/18 19:00            0\n",
       "2  2/15/18 20:00  2/15/18 22:30            0\n",
       "3  3/11/18 10:50  3/11/18 15:00            2\n",
       "4  3/11/18 15:15  3/11/18 18:00            1"
      ]
     },
     "execution_count": 4,
     "metadata": {},
     "output_type": "execute_result"
    }
   ],
   "source": [
    "data.iloc[1:5,2:5] "
   ]
  },
  {
   "cell_type": "markdown",
   "metadata": {},
   "source": [
    "#### Select the data point using list of integers\n"
   ]
  },
  {
   "cell_type": "code",
   "execution_count": 5,
   "metadata": {},
   "outputs": [
    {
     "data": {
      "text/html": [
       "<div>\n",
       "<style scoped>\n",
       "    .dataframe tbody tr th:only-of-type {\n",
       "        vertical-align: middle;\n",
       "    }\n",
       "\n",
       "    .dataframe tbody tr th {\n",
       "        vertical-align: top;\n",
       "    }\n",
       "\n",
       "    .dataframe thead th {\n",
       "        text-align: right;\n",
       "    }\n",
       "</style>\n",
       "<table border=\"1\" class=\"dataframe\">\n",
       "  <thead>\n",
       "    <tr style=\"text-align: right;\">\n",
       "      <th></th>\n",
       "      <th>LogInTime</th>\n",
       "      <th>LogOutTime</th>\n",
       "      <th>PurchaseNum</th>\n",
       "    </tr>\n",
       "  </thead>\n",
       "  <tbody>\n",
       "    <tr>\n",
       "      <td>1</td>\n",
       "      <td>2/15/18 18:00</td>\n",
       "      <td>2/15/18 19:00</td>\n",
       "      <td>0</td>\n",
       "    </tr>\n",
       "    <tr>\n",
       "      <td>2</td>\n",
       "      <td>2/15/18 20:00</td>\n",
       "      <td>2/15/18 22:30</td>\n",
       "      <td>0</td>\n",
       "    </tr>\n",
       "    <tr>\n",
       "      <td>3</td>\n",
       "      <td>3/11/18 10:50</td>\n",
       "      <td>3/11/18 15:00</td>\n",
       "      <td>2</td>\n",
       "    </tr>\n",
       "    <tr>\n",
       "      <td>4</td>\n",
       "      <td>3/11/18 15:15</td>\n",
       "      <td>3/11/18 18:00</td>\n",
       "      <td>1</td>\n",
       "    </tr>\n",
       "  </tbody>\n",
       "</table>\n",
       "</div>"
      ],
      "text/plain": [
       "       LogInTime     LogOutTime  PurchaseNum\n",
       "1  2/15/18 18:00  2/15/18 19:00            0\n",
       "2  2/15/18 20:00  2/15/18 22:30            0\n",
       "3  3/11/18 10:50  3/11/18 15:00            2\n",
       "4  3/11/18 15:15  3/11/18 18:00            1"
      ]
     },
     "execution_count": 5,
     "metadata": {},
     "output_type": "execute_result"
    }
   ],
   "source": [
    "data.iloc[[1,2,3,4],[2,3,4]]"
   ]
  },
  {
   "cell_type": "markdown",
   "metadata": {},
   "source": [
    "## Using column names & row indices to select single value (`loc[]`)"
   ]
  },
  {
   "cell_type": "code",
   "execution_count": 6,
   "metadata": {},
   "outputs": [],
   "source": [
    "# Set new index\n",
    "new_index = []\n",
    "for i in range(len(data)):\n",
    "    new_index.append(\"index_\" + str(i))\n",
    "data.index = new_index"
   ]
  },
  {
   "cell_type": "markdown",
   "metadata": {},
   "source": [
    "#### Select the data point using a range of index and column names"
   ]
  },
  {
   "cell_type": "code",
   "execution_count": 7,
   "metadata": {
    "scrolled": true
   },
   "outputs": [
    {
     "data": {
      "text/html": [
       "<div>\n",
       "<style scoped>\n",
       "    .dataframe tbody tr th:only-of-type {\n",
       "        vertical-align: middle;\n",
       "    }\n",
       "\n",
       "    .dataframe tbody tr th {\n",
       "        vertical-align: top;\n",
       "    }\n",
       "\n",
       "    .dataframe thead th {\n",
       "        text-align: right;\n",
       "    }\n",
       "</style>\n",
       "<table border=\"1\" class=\"dataframe\">\n",
       "  <thead>\n",
       "    <tr style=\"text-align: right;\">\n",
       "      <th></th>\n",
       "      <th>LogInTime</th>\n",
       "      <th>LogOutTime</th>\n",
       "      <th>PurchaseNum</th>\n",
       "    </tr>\n",
       "  </thead>\n",
       "  <tbody>\n",
       "    <tr>\n",
       "      <td>index_1</td>\n",
       "      <td>2/15/18 18:00</td>\n",
       "      <td>2/15/18 19:00</td>\n",
       "      <td>0</td>\n",
       "    </tr>\n",
       "    <tr>\n",
       "      <td>index_2</td>\n",
       "      <td>2/15/18 20:00</td>\n",
       "      <td>2/15/18 22:30</td>\n",
       "      <td>0</td>\n",
       "    </tr>\n",
       "    <tr>\n",
       "      <td>index_3</td>\n",
       "      <td>3/11/18 10:50</td>\n",
       "      <td>3/11/18 15:00</td>\n",
       "      <td>2</td>\n",
       "    </tr>\n",
       "    <tr>\n",
       "      <td>index_4</td>\n",
       "      <td>3/11/18 15:15</td>\n",
       "      <td>3/11/18 18:00</td>\n",
       "      <td>1</td>\n",
       "    </tr>\n",
       "  </tbody>\n",
       "</table>\n",
       "</div>"
      ],
      "text/plain": [
       "             LogInTime     LogOutTime  PurchaseNum\n",
       "index_1  2/15/18 18:00  2/15/18 19:00            0\n",
       "index_2  2/15/18 20:00  2/15/18 22:30            0\n",
       "index_3  3/11/18 10:50  3/11/18 15:00            2\n",
       "index_4  3/11/18 15:15  3/11/18 18:00            1"
      ]
     },
     "execution_count": 7,
     "metadata": {},
     "output_type": "execute_result"
    }
   ],
   "source": [
    "data.loc[\"index_1\":\"index_4\",\"LogInTime\":\"PurchaseNum\"] "
   ]
  },
  {
   "cell_type": "markdown",
   "metadata": {},
   "source": [
    "#### Select the data point using a list of index and column names"
   ]
  },
  {
   "cell_type": "code",
   "execution_count": 8,
   "metadata": {},
   "outputs": [
    {
     "data": {
      "text/html": [
       "<div>\n",
       "<style scoped>\n",
       "    .dataframe tbody tr th:only-of-type {\n",
       "        vertical-align: middle;\n",
       "    }\n",
       "\n",
       "    .dataframe tbody tr th {\n",
       "        vertical-align: top;\n",
       "    }\n",
       "\n",
       "    .dataframe thead th {\n",
       "        text-align: right;\n",
       "    }\n",
       "</style>\n",
       "<table border=\"1\" class=\"dataframe\">\n",
       "  <thead>\n",
       "    <tr style=\"text-align: right;\">\n",
       "      <th></th>\n",
       "      <th>LogInTime</th>\n",
       "      <th>LogOutTime</th>\n",
       "      <th>PurchaseNum</th>\n",
       "    </tr>\n",
       "  </thead>\n",
       "  <tbody>\n",
       "    <tr>\n",
       "      <td>index_1</td>\n",
       "      <td>2/15/18 18:00</td>\n",
       "      <td>2/15/18 19:00</td>\n",
       "      <td>0</td>\n",
       "    </tr>\n",
       "    <tr>\n",
       "      <td>index_2</td>\n",
       "      <td>2/15/18 20:00</td>\n",
       "      <td>2/15/18 22:30</td>\n",
       "      <td>0</td>\n",
       "    </tr>\n",
       "    <tr>\n",
       "      <td>index_3</td>\n",
       "      <td>3/11/18 10:50</td>\n",
       "      <td>3/11/18 15:00</td>\n",
       "      <td>2</td>\n",
       "    </tr>\n",
       "    <tr>\n",
       "      <td>index_4</td>\n",
       "      <td>3/11/18 15:15</td>\n",
       "      <td>3/11/18 18:00</td>\n",
       "      <td>1</td>\n",
       "    </tr>\n",
       "  </tbody>\n",
       "</table>\n",
       "</div>"
      ],
      "text/plain": [
       "             LogInTime     LogOutTime  PurchaseNum\n",
       "index_1  2/15/18 18:00  2/15/18 19:00            0\n",
       "index_2  2/15/18 20:00  2/15/18 22:30            0\n",
       "index_3  3/11/18 10:50  3/11/18 15:00            2\n",
       "index_4  3/11/18 15:15  3/11/18 18:00            1"
      ]
     },
     "execution_count": 8,
     "metadata": {},
     "output_type": "execute_result"
    }
   ],
   "source": [
    "data.loc[[\"index_1\",\"index_2\",\"index_3\",\"index_4\"],[\"LogInTime\",\"LogOutTime\",\"PurchaseNum\"]]"
   ]
  },
  {
   "cell_type": "markdown",
   "metadata": {},
   "source": [
    "## Using a mix of position & column names/row index to select data"
   ]
  },
  {
   "cell_type": "code",
   "execution_count": 9,
   "metadata": {},
   "outputs": [
    {
     "data": {
      "text/html": [
       "<div>\n",
       "<style scoped>\n",
       "    .dataframe tbody tr th:only-of-type {\n",
       "        vertical-align: middle;\n",
       "    }\n",
       "\n",
       "    .dataframe tbody tr th {\n",
       "        vertical-align: top;\n",
       "    }\n",
       "\n",
       "    .dataframe thead th {\n",
       "        text-align: right;\n",
       "    }\n",
       "</style>\n",
       "<table border=\"1\" class=\"dataframe\">\n",
       "  <thead>\n",
       "    <tr style=\"text-align: right;\">\n",
       "      <th></th>\n",
       "      <th>LogInTime</th>\n",
       "      <th>LogOutTime</th>\n",
       "      <th>PurchaseNum</th>\n",
       "    </tr>\n",
       "  </thead>\n",
       "  <tbody>\n",
       "    <tr>\n",
       "      <td>index_1</td>\n",
       "      <td>2/15/18 18:00</td>\n",
       "      <td>2/15/18 19:00</td>\n",
       "      <td>0</td>\n",
       "    </tr>\n",
       "    <tr>\n",
       "      <td>index_2</td>\n",
       "      <td>2/15/18 20:00</td>\n",
       "      <td>2/15/18 22:30</td>\n",
       "      <td>0</td>\n",
       "    </tr>\n",
       "    <tr>\n",
       "      <td>index_3</td>\n",
       "      <td>3/11/18 10:50</td>\n",
       "      <td>3/11/18 15:00</td>\n",
       "      <td>2</td>\n",
       "    </tr>\n",
       "    <tr>\n",
       "      <td>index_4</td>\n",
       "      <td>3/11/18 15:15</td>\n",
       "      <td>3/11/18 18:00</td>\n",
       "      <td>1</td>\n",
       "    </tr>\n",
       "  </tbody>\n",
       "</table>\n",
       "</div>"
      ],
      "text/plain": [
       "             LogInTime     LogOutTime  PurchaseNum\n",
       "index_1  2/15/18 18:00  2/15/18 19:00            0\n",
       "index_2  2/15/18 20:00  2/15/18 22:30            0\n",
       "index_3  3/11/18 10:50  3/11/18 15:00            2\n",
       "index_4  3/11/18 15:15  3/11/18 18:00            1"
      ]
     },
     "execution_count": 9,
     "metadata": {},
     "output_type": "execute_result"
    }
   ],
   "source": [
    "data.iloc[1:5,:].loc[:,\"LogInTime\":\"PurchaseNum\"]"
   ]
  },
  {
   "cell_type": "code",
   "execution_count": 10,
   "metadata": {},
   "outputs": [
    {
     "data": {
      "text/html": [
       "<div>\n",
       "<style scoped>\n",
       "    .dataframe tbody tr th:only-of-type {\n",
       "        vertical-align: middle;\n",
       "    }\n",
       "\n",
       "    .dataframe tbody tr th {\n",
       "        vertical-align: top;\n",
       "    }\n",
       "\n",
       "    .dataframe thead th {\n",
       "        text-align: right;\n",
       "    }\n",
       "</style>\n",
       "<table border=\"1\" class=\"dataframe\">\n",
       "  <thead>\n",
       "    <tr style=\"text-align: right;\">\n",
       "      <th></th>\n",
       "      <th>LogInTime</th>\n",
       "      <th>LogOutTime</th>\n",
       "      <th>PurchaseNum</th>\n",
       "    </tr>\n",
       "  </thead>\n",
       "  <tbody>\n",
       "    <tr>\n",
       "      <td>index_1</td>\n",
       "      <td>2/15/18 18:00</td>\n",
       "      <td>2/15/18 19:00</td>\n",
       "      <td>0</td>\n",
       "    </tr>\n",
       "    <tr>\n",
       "      <td>index_2</td>\n",
       "      <td>2/15/18 20:00</td>\n",
       "      <td>2/15/18 22:30</td>\n",
       "      <td>0</td>\n",
       "    </tr>\n",
       "    <tr>\n",
       "      <td>index_3</td>\n",
       "      <td>3/11/18 10:50</td>\n",
       "      <td>3/11/18 15:00</td>\n",
       "      <td>2</td>\n",
       "    </tr>\n",
       "    <tr>\n",
       "      <td>index_4</td>\n",
       "      <td>3/11/18 15:15</td>\n",
       "      <td>3/11/18 18:00</td>\n",
       "      <td>1</td>\n",
       "    </tr>\n",
       "  </tbody>\n",
       "</table>\n",
       "</div>"
      ],
      "text/plain": [
       "             LogInTime     LogOutTime  PurchaseNum\n",
       "index_1  2/15/18 18:00  2/15/18 19:00            0\n",
       "index_2  2/15/18 20:00  2/15/18 22:30            0\n",
       "index_3  3/11/18 10:50  3/11/18 15:00            2\n",
       "index_4  3/11/18 15:15  3/11/18 18:00            1"
      ]
     },
     "execution_count": 10,
     "metadata": {},
     "output_type": "execute_result"
    }
   ],
   "source": [
    "data.loc[\"index_1\":\"index_4\",:].iloc[:,2:5]"
   ]
  },
  {
   "cell_type": "markdown",
   "metadata": {},
   "source": [
    "## Using a boolean value to select single value"
   ]
  },
  {
   "cell_type": "code",
   "execution_count": 11,
   "metadata": {},
   "outputs": [
    {
     "data": {
      "text/plain": [
       "array([False, False, False, False, False,  True, False, False, False,\n",
       "       False, False, False, False, False,  True, False,  True, False,\n",
       "       False])"
      ]
     },
     "execution_count": 11,
     "metadata": {},
     "output_type": "execute_result"
    }
   ],
   "source": [
    "np.array(data[\"PurchaseNum\"]>2)"
   ]
  },
  {
   "cell_type": "code",
   "execution_count": 12,
   "metadata": {},
   "outputs": [
    {
     "data": {
      "text/plain": [
       "array([False, False,  True,  True,  True, False, False, False, False])"
      ]
     },
     "execution_count": 12,
     "metadata": {},
     "output_type": "execute_result"
    }
   ],
   "source": [
    "data.columns.isin([\"LogInTime\",\"LogOutTime\",\"PurchaseNum\"])"
   ]
  },
  {
   "cell_type": "code",
   "execution_count": 13,
   "metadata": {},
   "outputs": [
    {
     "data": {
      "text/html": [
       "<div>\n",
       "<style scoped>\n",
       "    .dataframe tbody tr th:only-of-type {\n",
       "        vertical-align: middle;\n",
       "    }\n",
       "\n",
       "    .dataframe tbody tr th {\n",
       "        vertical-align: top;\n",
       "    }\n",
       "\n",
       "    .dataframe thead th {\n",
       "        text-align: right;\n",
       "    }\n",
       "</style>\n",
       "<table border=\"1\" class=\"dataframe\">\n",
       "  <thead>\n",
       "    <tr style=\"text-align: right;\">\n",
       "      <th></th>\n",
       "      <th>LogInTime</th>\n",
       "      <th>LogOutTime</th>\n",
       "      <th>PurchaseNum</th>\n",
       "    </tr>\n",
       "  </thead>\n",
       "  <tbody>\n",
       "    <tr>\n",
       "      <td>index_5</td>\n",
       "      <td>5/10/18 18:00</td>\n",
       "      <td>5/10/18 21:00</td>\n",
       "      <td>4</td>\n",
       "    </tr>\n",
       "    <tr>\n",
       "      <td>index_14</td>\n",
       "      <td>6/7/18 15:25</td>\n",
       "      <td>6/7/18 21:45</td>\n",
       "      <td>4</td>\n",
       "    </tr>\n",
       "    <tr>\n",
       "      <td>index_16</td>\n",
       "      <td>6/20/18 17:30</td>\n",
       "      <td>6/20/18 23:00</td>\n",
       "      <td>3</td>\n",
       "    </tr>\n",
       "  </tbody>\n",
       "</table>\n",
       "</div>"
      ],
      "text/plain": [
       "              LogInTime     LogOutTime  PurchaseNum\n",
       "index_5   5/10/18 18:00  5/10/18 21:00            4\n",
       "index_14   6/7/18 15:25   6/7/18 21:45            4\n",
       "index_16  6/20/18 17:30  6/20/18 23:00            3"
      ]
     },
     "execution_count": 13,
     "metadata": {},
     "output_type": "execute_result"
    }
   ],
   "source": [
    "data.loc[data[\"PurchaseNum\"] > 2,data.columns.isin([\"LogInTime\",\"LogOutTime\",\"PurchaseNum\"])]"
   ]
  },
  {
   "cell_type": "code",
   "execution_count": 14,
   "metadata": {},
   "outputs": [
    {
     "data": {
      "text/html": [
       "<div>\n",
       "<style scoped>\n",
       "    .dataframe tbody tr th:only-of-type {\n",
       "        vertical-align: middle;\n",
       "    }\n",
       "\n",
       "    .dataframe tbody tr th {\n",
       "        vertical-align: top;\n",
       "    }\n",
       "\n",
       "    .dataframe thead th {\n",
       "        text-align: right;\n",
       "    }\n",
       "</style>\n",
       "<table border=\"1\" class=\"dataframe\">\n",
       "  <thead>\n",
       "    <tr style=\"text-align: right;\">\n",
       "      <th></th>\n",
       "      <th>ID</th>\n",
       "      <th>Name</th>\n",
       "      <th>Location</th>\n",
       "      <th>PurchaseAmount</th>\n",
       "      <th>Saving</th>\n",
       "      <th>Purchase</th>\n",
       "    </tr>\n",
       "  </thead>\n",
       "  <tbody>\n",
       "    <tr>\n",
       "      <td>index_5</td>\n",
       "      <td>101</td>\n",
       "      <td>Jack</td>\n",
       "      <td>Home</td>\n",
       "      <td>100.0</td>\n",
       "      <td>1130</td>\n",
       "      <td>Yes</td>\n",
       "    </tr>\n",
       "    <tr>\n",
       "      <td>index_14</td>\n",
       "      <td>103</td>\n",
       "      <td>Tom</td>\n",
       "      <td>Outside</td>\n",
       "      <td>200.0</td>\n",
       "      <td>3420</td>\n",
       "      <td>Yes</td>\n",
       "    </tr>\n",
       "    <tr>\n",
       "      <td>index_16</td>\n",
       "      <td>103</td>\n",
       "      <td>Tom</td>\n",
       "      <td>Work</td>\n",
       "      <td>60.0</td>\n",
       "      <td>3125</td>\n",
       "      <td>Yes</td>\n",
       "    </tr>\n",
       "  </tbody>\n",
       "</table>\n",
       "</div>"
      ],
      "text/plain": [
       "           ID  Name Location  PurchaseAmount  Saving Purchase\n",
       "index_5   101  Jack     Home           100.0    1130      Yes\n",
       "index_14  103   Tom  Outside           200.0    3420      Yes\n",
       "index_16  103   Tom     Work            60.0    3125      Yes"
      ]
     },
     "execution_count": 14,
     "metadata": {},
     "output_type": "execute_result"
    }
   ],
   "source": [
    "data.loc[data[\"PurchaseNum\"] > 2,~data.columns.isin([\"LogInTime\",\"LogOutTime\",\"PurchaseNum\"])]"
   ]
  },
  {
   "cell_type": "markdown",
   "metadata": {},
   "source": [
    "# Basic Stats function for DataFrame "
   ]
  },
  {
   "cell_type": "markdown",
   "metadata": {},
   "source": [
    "## For categorical variable column"
   ]
  },
  {
   "cell_type": "markdown",
   "metadata": {},
   "source": [
    "### `.value_counts()` returns the counts of each categorical variable"
   ]
  },
  {
   "cell_type": "code",
   "execution_count": 15,
   "metadata": {},
   "outputs": [
    {
     "data": {
      "text/plain": [
       "Home    9\n",
       "Name: Location, dtype: int64"
      ]
     },
     "execution_count": 15,
     "metadata": {},
     "output_type": "execute_result"
    }
   ],
   "source": [
    "data[\"Location\"].value_counts().head(1)"
   ]
  },
  {
   "cell_type": "markdown",
   "metadata": {},
   "source": [
    "### `.unique()` returns the unique value in this categorical variable"
   ]
  },
  {
   "cell_type": "code",
   "execution_count": 16,
   "metadata": {},
   "outputs": [
    {
     "name": "stdout",
     "output_type": "stream",
     "text": [
      "There are 3 levels in Location.\n"
     ]
    }
   ],
   "source": [
    "len(data[\"Location\"].unique())\n",
    "print(\"There are %r levels in Location.\" %len(data[\"Location\"].unique()))"
   ]
  },
  {
   "cell_type": "code",
   "execution_count": 17,
   "metadata": {},
   "outputs": [
    {
     "data": {
      "text/plain": [
       "array(['Home', 'Outside', 'Work'], dtype=object)"
      ]
     },
     "execution_count": 17,
     "metadata": {},
     "output_type": "execute_result"
    }
   ],
   "source": [
    "data[\"Location\"].unique()"
   ]
  },
  {
   "cell_type": "markdown",
   "metadata": {},
   "source": [
    "## For continuous variable column"
   ]
  },
  {
   "cell_type": "code",
   "execution_count": 18,
   "metadata": {},
   "outputs": [
    {
     "data": {
      "text/plain": [
       "20.0"
      ]
     },
     "execution_count": 18,
     "metadata": {},
     "output_type": "execute_result"
    }
   ],
   "source": [
    "data[\"PurchaseAmount\"].min() # Return the minimum value"
   ]
  },
  {
   "cell_type": "code",
   "execution_count": 19,
   "metadata": {},
   "outputs": [
    {
     "data": {
      "text/plain": [
       "78.2"
      ]
     },
     "execution_count": 19,
     "metadata": {},
     "output_type": "execute_result"
    }
   ],
   "source": [
    "data[\"PurchaseAmount\"].mean() # Return the average value"
   ]
  },
  {
   "cell_type": "code",
   "execution_count": 20,
   "metadata": {},
   "outputs": [
    {
     "data": {
      "text/plain": [
       "200.0"
      ]
     },
     "execution_count": 20,
     "metadata": {},
     "output_type": "execute_result"
    }
   ],
   "source": [
    "data[\"PurchaseAmount\"].max() # Return the maximum value"
   ]
  },
  {
   "cell_type": "code",
   "execution_count": 21,
   "metadata": {},
   "outputs": [
    {
     "data": {
      "text/plain": [
       "50.0"
      ]
     },
     "execution_count": 21,
     "metadata": {},
     "output_type": "execute_result"
    }
   ],
   "source": [
    "data[\"PurchaseAmount\"].median() # Return the median value"
   ]
  },
  {
   "cell_type": "code",
   "execution_count": 22,
   "metadata": {},
   "outputs": [
    {
     "data": {
      "text/plain": [
       "50.0"
      ]
     },
     "execution_count": 22,
     "metadata": {},
     "output_type": "execute_result"
    }
   ],
   "source": [
    "data[\"PurchaseAmount\"].quantile(0.5) # 50% percentile equals to the median value"
   ]
  },
  {
   "cell_type": "code",
   "execution_count": 23,
   "metadata": {},
   "outputs": [
    {
     "data": {
      "text/plain": [
       "40.0"
      ]
     },
     "execution_count": 23,
     "metadata": {},
     "output_type": "execute_result"
    }
   ],
   "source": [
    "data[\"PurchaseAmount\"].quantile(0.25) # 25% percentile "
   ]
  },
  {
   "cell_type": "code",
   "execution_count": 24,
   "metadata": {},
   "outputs": [
    {
     "data": {
      "text/plain": [
       "97.5"
      ]
     },
     "execution_count": 24,
     "metadata": {},
     "output_type": "execute_result"
    }
   ],
   "source": [
    "data[\"PurchaseAmount\"].quantile(0.75) # 75% percentile "
   ]
  },
  {
   "cell_type": "code",
   "execution_count": 25,
   "metadata": {},
   "outputs": [
    {
     "data": {
      "text/plain": [
       "False    15\n",
       "True      4\n",
       "Name: PurchaseAmount, dtype: int64"
      ]
     },
     "execution_count": 25,
     "metadata": {},
     "output_type": "execute_result"
    }
   ],
   "source": [
    "data.isna()[\"PurchaseAmount\"].value_counts()"
   ]
  },
  {
   "cell_type": "code",
   "execution_count": 26,
   "metadata": {},
   "outputs": [
    {
     "data": {
      "text/plain": [
       "index_0     150.0\n",
       "index_1       NaN\n",
       "index_2       NaN\n",
       "index_3     190.0\n",
       "index_4       NaN\n",
       "index_5     100.0\n",
       "index_6       NaN\n",
       "index_7       NaN\n",
       "index_8       NaN\n",
       "index_9      80.0\n",
       "index_10      NaN\n",
       "index_11      NaN\n",
       "index_12      NaN\n",
       "index_13      NaN\n",
       "index_14    200.0\n",
       "index_15     95.0\n",
       "index_16     60.0\n",
       "index_17      NaN\n",
       "index_18      NaN\n",
       "Name: PurchaseAmount, dtype: float64"
      ]
     },
     "execution_count": 26,
     "metadata": {},
     "output_type": "execute_result"
    }
   ],
   "source": [
    "# Differs from np.where\n",
    "data[\"PurchaseAmount\"].where(data[\"PurchaseAmount\"] > 50)\n"
   ]
  },
  {
   "cell_type": "markdown",
   "metadata": {},
   "source": [
    "# Handling missing data in DataFrame"
   ]
  },
  {
   "cell_type": "code",
   "execution_count": 27,
   "metadata": {},
   "outputs": [],
   "source": [
    "data_missing = data.copy()"
   ]
  },
  {
   "cell_type": "code",
   "execution_count": 28,
   "metadata": {},
   "outputs": [
    {
     "data": {
      "text/html": [
       "<div>\n",
       "<style scoped>\n",
       "    .dataframe tbody tr th:only-of-type {\n",
       "        vertical-align: middle;\n",
       "    }\n",
       "\n",
       "    .dataframe tbody tr th {\n",
       "        vertical-align: top;\n",
       "    }\n",
       "\n",
       "    .dataframe thead th {\n",
       "        text-align: right;\n",
       "    }\n",
       "</style>\n",
       "<table border=\"1\" class=\"dataframe\">\n",
       "  <thead>\n",
       "    <tr style=\"text-align: right;\">\n",
       "      <th></th>\n",
       "      <th>ID</th>\n",
       "      <th>Name</th>\n",
       "      <th>LogInTime</th>\n",
       "      <th>LogOutTime</th>\n",
       "      <th>PurchaseNum</th>\n",
       "      <th>Location</th>\n",
       "      <th>PurchaseAmount</th>\n",
       "      <th>Saving</th>\n",
       "      <th>Purchase</th>\n",
       "    </tr>\n",
       "  </thead>\n",
       "  <tbody>\n",
       "    <tr>\n",
       "      <td>index_0</td>\n",
       "      <td>101</td>\n",
       "      <td>Jack</td>\n",
       "      <td>2/10/18 13:10</td>\n",
       "      <td>2/10/18 14:30</td>\n",
       "      <td>5</td>\n",
       "      <td>Home</td>\n",
       "      <td>150.0</td>\n",
       "      <td>1500</td>\n",
       "      <td>Yes</td>\n",
       "    </tr>\n",
       "    <tr>\n",
       "      <td>index_1</td>\n",
       "      <td>101</td>\n",
       "      <td>Jack</td>\n",
       "      <td>2/15/18 18:00</td>\n",
       "      <td>2/15/18 19:00</td>\n",
       "      <td>0</td>\n",
       "      <td>Home</td>\n",
       "      <td>NaN</td>\n",
       "      <td>1350</td>\n",
       "      <td>No</td>\n",
       "    </tr>\n",
       "    <tr>\n",
       "      <td>index_2</td>\n",
       "      <td>101</td>\n",
       "      <td>Jack</td>\n",
       "      <td>2/15/18 20:00</td>\n",
       "      <td>2/15/18 22:30</td>\n",
       "      <td>0</td>\n",
       "      <td>Home</td>\n",
       "      <td>NaN</td>\n",
       "      <td>1350</td>\n",
       "      <td>No</td>\n",
       "    </tr>\n",
       "    <tr>\n",
       "      <td>index_3</td>\n",
       "      <td>101</td>\n",
       "      <td>Jack</td>\n",
       "      <td>3/11/18 10:50</td>\n",
       "      <td>3/11/18 15:00</td>\n",
       "      <td>2</td>\n",
       "      <td>Outside</td>\n",
       "      <td>190.0</td>\n",
       "      <td>1350</td>\n",
       "      <td>Yes</td>\n",
       "    </tr>\n",
       "    <tr>\n",
       "      <td>index_4</td>\n",
       "      <td>101</td>\n",
       "      <td>Jack</td>\n",
       "      <td>3/11/18 15:15</td>\n",
       "      <td>3/11/18 18:00</td>\n",
       "      <td>5</td>\n",
       "      <td>Home</td>\n",
       "      <td>30.0</td>\n",
       "      <td>1160</td>\n",
       "      <td>Yes</td>\n",
       "    </tr>\n",
       "    <tr>\n",
       "      <td>index_5</td>\n",
       "      <td>101</td>\n",
       "      <td>Jack</td>\n",
       "      <td>5/10/18 18:00</td>\n",
       "      <td>5/10/18 21:00</td>\n",
       "      <td>4</td>\n",
       "      <td>Home</td>\n",
       "      <td>100.0</td>\n",
       "      <td>1130</td>\n",
       "      <td>Yes</td>\n",
       "    </tr>\n",
       "    <tr>\n",
       "      <td>index_6</td>\n",
       "      <td>101</td>\n",
       "      <td>Jack</td>\n",
       "      <td>7/12/18 17:40</td>\n",
       "      <td>7/12/18 18:20</td>\n",
       "      <td>2</td>\n",
       "      <td>Work</td>\n",
       "      <td>28.0</td>\n",
       "      <td>1030</td>\n",
       "      <td>Yes</td>\n",
       "    </tr>\n",
       "    <tr>\n",
       "      <td>index_7</td>\n",
       "      <td>101</td>\n",
       "      <td>Jack</td>\n",
       "      <td>6/5/18 15:25</td>\n",
       "      <td>6/5/18 19:45</td>\n",
       "      <td>0</td>\n",
       "      <td>Home</td>\n",
       "      <td>NaN</td>\n",
       "      <td>1002</td>\n",
       "      <td>No</td>\n",
       "    </tr>\n",
       "    <tr>\n",
       "      <td>index_8</td>\n",
       "      <td>102</td>\n",
       "      <td>Amy</td>\n",
       "      <td>5/1/18 14:15</td>\n",
       "      <td>5/1/18 18:00</td>\n",
       "      <td>0</td>\n",
       "      <td>Work</td>\n",
       "      <td>NaN</td>\n",
       "      <td>800</td>\n",
       "      <td>No</td>\n",
       "    </tr>\n",
       "    <tr>\n",
       "      <td>index_9</td>\n",
       "      <td>102</td>\n",
       "      <td>Amy</td>\n",
       "      <td>6/10/18 16:00</td>\n",
       "      <td>6/10/18 23:00</td>\n",
       "      <td>2</td>\n",
       "      <td>Home</td>\n",
       "      <td>80.0</td>\n",
       "      <td>800</td>\n",
       "      <td>Yes</td>\n",
       "    </tr>\n",
       "    <tr>\n",
       "      <td>index_10</td>\n",
       "      <td>102</td>\n",
       "      <td>Amy</td>\n",
       "      <td>7/18/18 12:40</td>\n",
       "      <td>7/18/18 14:20</td>\n",
       "      <td>5</td>\n",
       "      <td>Work</td>\n",
       "      <td>50.0</td>\n",
       "      <td>720</td>\n",
       "      <td>Yes</td>\n",
       "    </tr>\n",
       "    <tr>\n",
       "      <td>index_11</td>\n",
       "      <td>102</td>\n",
       "      <td>Amy</td>\n",
       "      <td>6/15/18 15:25</td>\n",
       "      <td>6/15/18 19:45</td>\n",
       "      <td>5</td>\n",
       "      <td>Work</td>\n",
       "      <td>40.0</td>\n",
       "      <td>670</td>\n",
       "      <td>Yes</td>\n",
       "    </tr>\n",
       "    <tr>\n",
       "      <td>index_12</td>\n",
       "      <td>103</td>\n",
       "      <td>Tom</td>\n",
       "      <td>7/10/18 18:00</td>\n",
       "      <td>7/10/18 22:30</td>\n",
       "      <td>5</td>\n",
       "      <td>Work</td>\n",
       "      <td>40.0</td>\n",
       "      <td>3500</td>\n",
       "      <td>Yes</td>\n",
       "    </tr>\n",
       "    <tr>\n",
       "      <td>index_13</td>\n",
       "      <td>103</td>\n",
       "      <td>Tom</td>\n",
       "      <td>7/12/18 14:40</td>\n",
       "      <td>7/12/18 18:40</td>\n",
       "      <td>5</td>\n",
       "      <td>Outside</td>\n",
       "      <td>40.0</td>\n",
       "      <td>3460</td>\n",
       "      <td>Yes</td>\n",
       "    </tr>\n",
       "    <tr>\n",
       "      <td>index_14</td>\n",
       "      <td>103</td>\n",
       "      <td>Tom</td>\n",
       "      <td>6/7/18 15:25</td>\n",
       "      <td>6/7/18 21:45</td>\n",
       "      <td>4</td>\n",
       "      <td>Outside</td>\n",
       "      <td>200.0</td>\n",
       "      <td>3420</td>\n",
       "      <td>Yes</td>\n",
       "    </tr>\n",
       "    <tr>\n",
       "      <td>index_15</td>\n",
       "      <td>103</td>\n",
       "      <td>Tom</td>\n",
       "      <td>5/19/18 14:15</td>\n",
       "      <td>5/19/18 20:00</td>\n",
       "      <td>2</td>\n",
       "      <td>Home</td>\n",
       "      <td>95.0</td>\n",
       "      <td>3220</td>\n",
       "      <td>Yes</td>\n",
       "    </tr>\n",
       "    <tr>\n",
       "      <td>index_16</td>\n",
       "      <td>103</td>\n",
       "      <td>Tom</td>\n",
       "      <td>6/20/18 17:30</td>\n",
       "      <td>6/20/18 23:00</td>\n",
       "      <td>3</td>\n",
       "      <td>Work</td>\n",
       "      <td>60.0</td>\n",
       "      <td>3125</td>\n",
       "      <td>Yes</td>\n",
       "    </tr>\n",
       "    <tr>\n",
       "      <td>index_17</td>\n",
       "      <td>103</td>\n",
       "      <td>Tom</td>\n",
       "      <td>7/28/18 12:40</td>\n",
       "      <td>7/28/18 14:20</td>\n",
       "      <td>2</td>\n",
       "      <td>Work</td>\n",
       "      <td>20.0</td>\n",
       "      <td>3065</td>\n",
       "      <td>Yes</td>\n",
       "    </tr>\n",
       "    <tr>\n",
       "      <td>index_18</td>\n",
       "      <td>103</td>\n",
       "      <td>Tom</td>\n",
       "      <td>11/11/18 15:25</td>\n",
       "      <td>11/11/18 19:45</td>\n",
       "      <td>5</td>\n",
       "      <td>Home</td>\n",
       "      <td>50.0</td>\n",
       "      <td>3045</td>\n",
       "      <td>Yes</td>\n",
       "    </tr>\n",
       "  </tbody>\n",
       "</table>\n",
       "</div>"
      ],
      "text/plain": [
       "           ID  Name       LogInTime      LogOutTime  PurchaseNum Location  \\\n",
       "index_0   101  Jack   2/10/18 13:10   2/10/18 14:30            5     Home   \n",
       "index_1   101  Jack   2/15/18 18:00   2/15/18 19:00            0     Home   \n",
       "index_2   101  Jack   2/15/18 20:00   2/15/18 22:30            0     Home   \n",
       "index_3   101  Jack   3/11/18 10:50   3/11/18 15:00            2  Outside   \n",
       "index_4   101  Jack   3/11/18 15:15   3/11/18 18:00            5     Home   \n",
       "index_5   101  Jack   5/10/18 18:00   5/10/18 21:00            4     Home   \n",
       "index_6   101  Jack   7/12/18 17:40   7/12/18 18:20            2     Work   \n",
       "index_7   101  Jack    6/5/18 15:25    6/5/18 19:45            0     Home   \n",
       "index_8   102   Amy    5/1/18 14:15    5/1/18 18:00            0     Work   \n",
       "index_9   102   Amy   6/10/18 16:00   6/10/18 23:00            2     Home   \n",
       "index_10  102   Amy   7/18/18 12:40   7/18/18 14:20            5     Work   \n",
       "index_11  102   Amy   6/15/18 15:25   6/15/18 19:45            5     Work   \n",
       "index_12  103   Tom   7/10/18 18:00   7/10/18 22:30            5     Work   \n",
       "index_13  103   Tom   7/12/18 14:40   7/12/18 18:40            5  Outside   \n",
       "index_14  103   Tom    6/7/18 15:25    6/7/18 21:45            4  Outside   \n",
       "index_15  103   Tom   5/19/18 14:15   5/19/18 20:00            2     Home   \n",
       "index_16  103   Tom   6/20/18 17:30   6/20/18 23:00            3     Work   \n",
       "index_17  103   Tom   7/28/18 12:40   7/28/18 14:20            2     Work   \n",
       "index_18  103   Tom  11/11/18 15:25  11/11/18 19:45            5     Home   \n",
       "\n",
       "          PurchaseAmount  Saving Purchase  \n",
       "index_0            150.0    1500      Yes  \n",
       "index_1              NaN    1350       No  \n",
       "index_2              NaN    1350       No  \n",
       "index_3            190.0    1350      Yes  \n",
       "index_4             30.0    1160      Yes  \n",
       "index_5            100.0    1130      Yes  \n",
       "index_6             28.0    1030      Yes  \n",
       "index_7              NaN    1002       No  \n",
       "index_8              NaN     800       No  \n",
       "index_9             80.0     800      Yes  \n",
       "index_10            50.0     720      Yes  \n",
       "index_11            40.0     670      Yes  \n",
       "index_12            40.0    3500      Yes  \n",
       "index_13            40.0    3460      Yes  \n",
       "index_14           200.0    3420      Yes  \n",
       "index_15            95.0    3220      Yes  \n",
       "index_16            60.0    3125      Yes  \n",
       "index_17            20.0    3065      Yes  \n",
       "index_18            50.0    3045      Yes  "
      ]
     },
     "execution_count": 28,
     "metadata": {},
     "output_type": "execute_result"
    }
   ],
   "source": [
    "data_missing.replace(1,5,inplace=False)"
   ]
  },
  {
   "cell_type": "code",
   "execution_count": 29,
   "metadata": {},
   "outputs": [
    {
     "data": {
      "text/html": [
       "<div>\n",
       "<style scoped>\n",
       "    .dataframe tbody tr th:only-of-type {\n",
       "        vertical-align: middle;\n",
       "    }\n",
       "\n",
       "    .dataframe tbody tr th {\n",
       "        vertical-align: top;\n",
       "    }\n",
       "\n",
       "    .dataframe thead th {\n",
       "        text-align: right;\n",
       "    }\n",
       "</style>\n",
       "<table border=\"1\" class=\"dataframe\">\n",
       "  <thead>\n",
       "    <tr style=\"text-align: right;\">\n",
       "      <th></th>\n",
       "      <th>ID</th>\n",
       "      <th>Name</th>\n",
       "      <th>LogInTime</th>\n",
       "      <th>LogOutTime</th>\n",
       "      <th>PurchaseNum</th>\n",
       "      <th>Location</th>\n",
       "      <th>Saving</th>\n",
       "      <th>Purchase</th>\n",
       "    </tr>\n",
       "  </thead>\n",
       "  <tbody>\n",
       "    <tr>\n",
       "      <td>index_0</td>\n",
       "      <td>101</td>\n",
       "      <td>Jack</td>\n",
       "      <td>2/10/18 13:10</td>\n",
       "      <td>2/10/18 14:30</td>\n",
       "      <td>1</td>\n",
       "      <td>Home</td>\n",
       "      <td>1500</td>\n",
       "      <td>Yes</td>\n",
       "    </tr>\n",
       "    <tr>\n",
       "      <td>index_1</td>\n",
       "      <td>101</td>\n",
       "      <td>Jack</td>\n",
       "      <td>2/15/18 18:00</td>\n",
       "      <td>2/15/18 19:00</td>\n",
       "      <td>0</td>\n",
       "      <td>Home</td>\n",
       "      <td>1350</td>\n",
       "      <td>No</td>\n",
       "    </tr>\n",
       "    <tr>\n",
       "      <td>index_2</td>\n",
       "      <td>101</td>\n",
       "      <td>Jack</td>\n",
       "      <td>2/15/18 20:00</td>\n",
       "      <td>2/15/18 22:30</td>\n",
       "      <td>0</td>\n",
       "      <td>Home</td>\n",
       "      <td>1350</td>\n",
       "      <td>No</td>\n",
       "    </tr>\n",
       "  </tbody>\n",
       "</table>\n",
       "</div>"
      ],
      "text/plain": [
       "          ID  Name      LogInTime     LogOutTime  PurchaseNum Location  \\\n",
       "index_0  101  Jack  2/10/18 13:10  2/10/18 14:30            1     Home   \n",
       "index_1  101  Jack  2/15/18 18:00  2/15/18 19:00            0     Home   \n",
       "index_2  101  Jack  2/15/18 20:00  2/15/18 22:30            0     Home   \n",
       "\n",
       "         Saving Purchase  \n",
       "index_0    1500      Yes  \n",
       "index_1    1350       No  \n",
       "index_2    1350       No  "
      ]
     },
     "execution_count": 29,
     "metadata": {},
     "output_type": "execute_result"
    }
   ],
   "source": [
    "data_missing.dropna(inplace=False,axis=\"columns\").head(3)"
   ]
  },
  {
   "cell_type": "code",
   "execution_count": 30,
   "metadata": {},
   "outputs": [
    {
     "data": {
      "text/html": [
       "<div>\n",
       "<style scoped>\n",
       "    .dataframe tbody tr th:only-of-type {\n",
       "        vertical-align: middle;\n",
       "    }\n",
       "\n",
       "    .dataframe tbody tr th {\n",
       "        vertical-align: top;\n",
       "    }\n",
       "\n",
       "    .dataframe thead th {\n",
       "        text-align: right;\n",
       "    }\n",
       "</style>\n",
       "<table border=\"1\" class=\"dataframe\">\n",
       "  <thead>\n",
       "    <tr style=\"text-align: right;\">\n",
       "      <th></th>\n",
       "      <th>ID</th>\n",
       "      <th>Name</th>\n",
       "      <th>LogInTime</th>\n",
       "      <th>LogOutTime</th>\n",
       "      <th>PurchaseNum</th>\n",
       "      <th>Location</th>\n",
       "      <th>PurchaseAmount</th>\n",
       "      <th>Saving</th>\n",
       "      <th>Purchase</th>\n",
       "    </tr>\n",
       "  </thead>\n",
       "  <tbody>\n",
       "    <tr>\n",
       "      <td>index_0</td>\n",
       "      <td>101</td>\n",
       "      <td>Jack</td>\n",
       "      <td>2/10/18 13:10</td>\n",
       "      <td>2/10/18 14:30</td>\n",
       "      <td>1</td>\n",
       "      <td>Home</td>\n",
       "      <td>150.0</td>\n",
       "      <td>1500</td>\n",
       "      <td>Yes</td>\n",
       "    </tr>\n",
       "    <tr>\n",
       "      <td>index_3</td>\n",
       "      <td>101</td>\n",
       "      <td>Jack</td>\n",
       "      <td>3/11/18 10:50</td>\n",
       "      <td>3/11/18 15:00</td>\n",
       "      <td>2</td>\n",
       "      <td>Outside</td>\n",
       "      <td>190.0</td>\n",
       "      <td>1350</td>\n",
       "      <td>Yes</td>\n",
       "    </tr>\n",
       "    <tr>\n",
       "      <td>index_4</td>\n",
       "      <td>101</td>\n",
       "      <td>Jack</td>\n",
       "      <td>3/11/18 15:15</td>\n",
       "      <td>3/11/18 18:00</td>\n",
       "      <td>1</td>\n",
       "      <td>Home</td>\n",
       "      <td>30.0</td>\n",
       "      <td>1160</td>\n",
       "      <td>Yes</td>\n",
       "    </tr>\n",
       "  </tbody>\n",
       "</table>\n",
       "</div>"
      ],
      "text/plain": [
       "          ID  Name      LogInTime     LogOutTime  PurchaseNum Location  \\\n",
       "index_0  101  Jack  2/10/18 13:10  2/10/18 14:30            1     Home   \n",
       "index_3  101  Jack  3/11/18 10:50  3/11/18 15:00            2  Outside   \n",
       "index_4  101  Jack  3/11/18 15:15  3/11/18 18:00            1     Home   \n",
       "\n",
       "         PurchaseAmount  Saving Purchase  \n",
       "index_0           150.0    1500      Yes  \n",
       "index_3           190.0    1350      Yes  \n",
       "index_4            30.0    1160      Yes  "
      ]
     },
     "execution_count": 30,
     "metadata": {},
     "output_type": "execute_result"
    }
   ],
   "source": [
    "data_missing.dropna(inplace=False,axis=\"index\").head(3)"
   ]
  },
  {
   "cell_type": "code",
   "execution_count": 31,
   "metadata": {},
   "outputs": [
    {
     "data": {
      "text/html": [
       "<div>\n",
       "<style scoped>\n",
       "    .dataframe tbody tr th:only-of-type {\n",
       "        vertical-align: middle;\n",
       "    }\n",
       "\n",
       "    .dataframe tbody tr th {\n",
       "        vertical-align: top;\n",
       "    }\n",
       "\n",
       "    .dataframe thead th {\n",
       "        text-align: right;\n",
       "    }\n",
       "</style>\n",
       "<table border=\"1\" class=\"dataframe\">\n",
       "  <thead>\n",
       "    <tr style=\"text-align: right;\">\n",
       "      <th></th>\n",
       "      <th>ID</th>\n",
       "      <th>Name</th>\n",
       "      <th>LogInTime</th>\n",
       "      <th>LogOutTime</th>\n",
       "      <th>PurchaseNum</th>\n",
       "      <th>Location</th>\n",
       "      <th>PurchaseAmount</th>\n",
       "      <th>Saving</th>\n",
       "      <th>Purchase</th>\n",
       "    </tr>\n",
       "  </thead>\n",
       "  <tbody>\n",
       "    <tr>\n",
       "      <td>index_0</td>\n",
       "      <td>False</td>\n",
       "      <td>False</td>\n",
       "      <td>False</td>\n",
       "      <td>False</td>\n",
       "      <td>False</td>\n",
       "      <td>False</td>\n",
       "      <td>False</td>\n",
       "      <td>False</td>\n",
       "      <td>False</td>\n",
       "    </tr>\n",
       "    <tr>\n",
       "      <td>index_1</td>\n",
       "      <td>False</td>\n",
       "      <td>False</td>\n",
       "      <td>False</td>\n",
       "      <td>False</td>\n",
       "      <td>False</td>\n",
       "      <td>False</td>\n",
       "      <td>True</td>\n",
       "      <td>False</td>\n",
       "      <td>False</td>\n",
       "    </tr>\n",
       "    <tr>\n",
       "      <td>index_2</td>\n",
       "      <td>False</td>\n",
       "      <td>False</td>\n",
       "      <td>False</td>\n",
       "      <td>False</td>\n",
       "      <td>False</td>\n",
       "      <td>False</td>\n",
       "      <td>True</td>\n",
       "      <td>False</td>\n",
       "      <td>False</td>\n",
       "    </tr>\n",
       "  </tbody>\n",
       "</table>\n",
       "</div>"
      ],
      "text/plain": [
       "            ID   Name  LogInTime  LogOutTime  PurchaseNum  Location  \\\n",
       "index_0  False  False      False       False        False     False   \n",
       "index_1  False  False      False       False        False     False   \n",
       "index_2  False  False      False       False        False     False   \n",
       "\n",
       "         PurchaseAmount  Saving  Purchase  \n",
       "index_0           False   False     False  \n",
       "index_1            True   False     False  \n",
       "index_2            True   False     False  "
      ]
     },
     "execution_count": 31,
     "metadata": {},
     "output_type": "execute_result"
    }
   ],
   "source": [
    "data_missing.isna().head(3)"
   ]
  },
  {
   "cell_type": "code",
   "execution_count": 32,
   "metadata": {},
   "outputs": [
    {
     "data": {
      "text/plain": [
       "False    15\n",
       "True      4\n",
       "Name: PurchaseAmount, dtype: int64"
      ]
     },
     "execution_count": 32,
     "metadata": {},
     "output_type": "execute_result"
    }
   ],
   "source": [
    "data_missing[\"PurchaseAmount\"].isna().value_counts()"
   ]
  },
  {
   "cell_type": "code",
   "execution_count": 33,
   "metadata": {},
   "outputs": [
    {
     "data": {
      "text/html": [
       "<div>\n",
       "<style scoped>\n",
       "    .dataframe tbody tr th:only-of-type {\n",
       "        vertical-align: middle;\n",
       "    }\n",
       "\n",
       "    .dataframe tbody tr th {\n",
       "        vertical-align: top;\n",
       "    }\n",
       "\n",
       "    .dataframe thead th {\n",
       "        text-align: right;\n",
       "    }\n",
       "</style>\n",
       "<table border=\"1\" class=\"dataframe\">\n",
       "  <thead>\n",
       "    <tr style=\"text-align: right;\">\n",
       "      <th></th>\n",
       "      <th>ID</th>\n",
       "      <th>Name</th>\n",
       "      <th>LogInTime</th>\n",
       "      <th>LogOutTime</th>\n",
       "      <th>PurchaseNum</th>\n",
       "      <th>Location</th>\n",
       "      <th>PurchaseAmount</th>\n",
       "      <th>Saving</th>\n",
       "      <th>Purchase</th>\n",
       "    </tr>\n",
       "  </thead>\n",
       "  <tbody>\n",
       "    <tr>\n",
       "      <td>index_0</td>\n",
       "      <td>101</td>\n",
       "      <td>Jack</td>\n",
       "      <td>2/10/18 13:10</td>\n",
       "      <td>2/10/18 14:30</td>\n",
       "      <td>1</td>\n",
       "      <td>Home</td>\n",
       "      <td>150.0</td>\n",
       "      <td>1500</td>\n",
       "      <td>Yes</td>\n",
       "    </tr>\n",
       "    <tr>\n",
       "      <td>index_1</td>\n",
       "      <td>101</td>\n",
       "      <td>Jack</td>\n",
       "      <td>2/15/18 18:00</td>\n",
       "      <td>2/15/18 19:00</td>\n",
       "      <td>0</td>\n",
       "      <td>Home</td>\n",
       "      <td>NaN</td>\n",
       "      <td>1350</td>\n",
       "      <td>No</td>\n",
       "    </tr>\n",
       "    <tr>\n",
       "      <td>index_2</td>\n",
       "      <td>101</td>\n",
       "      <td>Jack</td>\n",
       "      <td>2/15/18 20:00</td>\n",
       "      <td>2/15/18 22:30</td>\n",
       "      <td>0</td>\n",
       "      <td>Home</td>\n",
       "      <td>NaN</td>\n",
       "      <td>1350</td>\n",
       "      <td>No</td>\n",
       "    </tr>\n",
       "    <tr>\n",
       "      <td>index_3</td>\n",
       "      <td>101</td>\n",
       "      <td>Jack</td>\n",
       "      <td>3/11/18 10:50</td>\n",
       "      <td>3/11/18 15:00</td>\n",
       "      <td>2</td>\n",
       "      <td>Outside</td>\n",
       "      <td>190.0</td>\n",
       "      <td>1350</td>\n",
       "      <td>Yes</td>\n",
       "    </tr>\n",
       "    <tr>\n",
       "      <td>index_4</td>\n",
       "      <td>101</td>\n",
       "      <td>Jack</td>\n",
       "      <td>3/11/18 15:15</td>\n",
       "      <td>3/11/18 18:00</td>\n",
       "      <td>1</td>\n",
       "      <td>Home</td>\n",
       "      <td>30.0</td>\n",
       "      <td>1160</td>\n",
       "      <td>Yes</td>\n",
       "    </tr>\n",
       "    <tr>\n",
       "      <td>index_5</td>\n",
       "      <td>101</td>\n",
       "      <td>Jack</td>\n",
       "      <td>5/10/18 18:00</td>\n",
       "      <td>5/10/18 21:00</td>\n",
       "      <td>4</td>\n",
       "      <td>Home</td>\n",
       "      <td>100.0</td>\n",
       "      <td>1130</td>\n",
       "      <td>Yes</td>\n",
       "    </tr>\n",
       "    <tr>\n",
       "      <td>index_6</td>\n",
       "      <td>101</td>\n",
       "      <td>Jack</td>\n",
       "      <td>7/12/18 17:40</td>\n",
       "      <td>7/12/18 18:20</td>\n",
       "      <td>2</td>\n",
       "      <td>Work</td>\n",
       "      <td>28.0</td>\n",
       "      <td>1030</td>\n",
       "      <td>Yes</td>\n",
       "    </tr>\n",
       "    <tr>\n",
       "      <td>index_7</td>\n",
       "      <td>101</td>\n",
       "      <td>Jack</td>\n",
       "      <td>6/5/18 15:25</td>\n",
       "      <td>6/5/18 19:45</td>\n",
       "      <td>0</td>\n",
       "      <td>Home</td>\n",
       "      <td>NaN</td>\n",
       "      <td>1002</td>\n",
       "      <td>No</td>\n",
       "    </tr>\n",
       "    <tr>\n",
       "      <td>index_8</td>\n",
       "      <td>102</td>\n",
       "      <td>Amy</td>\n",
       "      <td>5/1/18 14:15</td>\n",
       "      <td>5/1/18 18:00</td>\n",
       "      <td>0</td>\n",
       "      <td>Work</td>\n",
       "      <td>NaN</td>\n",
       "      <td>800</td>\n",
       "      <td>No</td>\n",
       "    </tr>\n",
       "    <tr>\n",
       "      <td>index_9</td>\n",
       "      <td>102</td>\n",
       "      <td>Amy</td>\n",
       "      <td>6/10/18 16:00</td>\n",
       "      <td>6/10/18 23:00</td>\n",
       "      <td>2</td>\n",
       "      <td>Home</td>\n",
       "      <td>80.0</td>\n",
       "      <td>800</td>\n",
       "      <td>Yes</td>\n",
       "    </tr>\n",
       "    <tr>\n",
       "      <td>index_10</td>\n",
       "      <td>102</td>\n",
       "      <td>Amy</td>\n",
       "      <td>7/18/18 12:40</td>\n",
       "      <td>7/18/18 14:20</td>\n",
       "      <td>1</td>\n",
       "      <td>Work</td>\n",
       "      <td>50.0</td>\n",
       "      <td>720</td>\n",
       "      <td>Yes</td>\n",
       "    </tr>\n",
       "    <tr>\n",
       "      <td>index_11</td>\n",
       "      <td>102</td>\n",
       "      <td>Amy</td>\n",
       "      <td>6/15/18 15:25</td>\n",
       "      <td>6/15/18 19:45</td>\n",
       "      <td>1</td>\n",
       "      <td>Work</td>\n",
       "      <td>40.0</td>\n",
       "      <td>670</td>\n",
       "      <td>Yes</td>\n",
       "    </tr>\n",
       "    <tr>\n",
       "      <td>index_12</td>\n",
       "      <td>103</td>\n",
       "      <td>Tom</td>\n",
       "      <td>7/10/18 18:00</td>\n",
       "      <td>7/10/18 22:30</td>\n",
       "      <td>1</td>\n",
       "      <td>Work</td>\n",
       "      <td>40.0</td>\n",
       "      <td>3500</td>\n",
       "      <td>Yes</td>\n",
       "    </tr>\n",
       "    <tr>\n",
       "      <td>index_13</td>\n",
       "      <td>103</td>\n",
       "      <td>Tom</td>\n",
       "      <td>7/12/18 14:40</td>\n",
       "      <td>7/12/18 18:40</td>\n",
       "      <td>1</td>\n",
       "      <td>Outside</td>\n",
       "      <td>40.0</td>\n",
       "      <td>3460</td>\n",
       "      <td>Yes</td>\n",
       "    </tr>\n",
       "    <tr>\n",
       "      <td>index_14</td>\n",
       "      <td>103</td>\n",
       "      <td>Tom</td>\n",
       "      <td>6/7/18 15:25</td>\n",
       "      <td>6/7/18 21:45</td>\n",
       "      <td>4</td>\n",
       "      <td>Outside</td>\n",
       "      <td>200.0</td>\n",
       "      <td>3420</td>\n",
       "      <td>Yes</td>\n",
       "    </tr>\n",
       "    <tr>\n",
       "      <td>index_15</td>\n",
       "      <td>103</td>\n",
       "      <td>Tom</td>\n",
       "      <td>5/19/18 14:15</td>\n",
       "      <td>5/19/18 20:00</td>\n",
       "      <td>2</td>\n",
       "      <td>Home</td>\n",
       "      <td>95.0</td>\n",
       "      <td>3220</td>\n",
       "      <td>Yes</td>\n",
       "    </tr>\n",
       "    <tr>\n",
       "      <td>index_16</td>\n",
       "      <td>103</td>\n",
       "      <td>Tom</td>\n",
       "      <td>6/20/18 17:30</td>\n",
       "      <td>6/20/18 23:00</td>\n",
       "      <td>3</td>\n",
       "      <td>Work</td>\n",
       "      <td>60.0</td>\n",
       "      <td>3125</td>\n",
       "      <td>Yes</td>\n",
       "    </tr>\n",
       "    <tr>\n",
       "      <td>index_17</td>\n",
       "      <td>103</td>\n",
       "      <td>Tom</td>\n",
       "      <td>7/28/18 12:40</td>\n",
       "      <td>7/28/18 14:20</td>\n",
       "      <td>2</td>\n",
       "      <td>Work</td>\n",
       "      <td>20.0</td>\n",
       "      <td>3065</td>\n",
       "      <td>Yes</td>\n",
       "    </tr>\n",
       "    <tr>\n",
       "      <td>index_18</td>\n",
       "      <td>103</td>\n",
       "      <td>Tom</td>\n",
       "      <td>11/11/18 15:25</td>\n",
       "      <td>11/11/18 19:45</td>\n",
       "      <td>1</td>\n",
       "      <td>Home</td>\n",
       "      <td>50.0</td>\n",
       "      <td>3045</td>\n",
       "      <td>Yes</td>\n",
       "    </tr>\n",
       "  </tbody>\n",
       "</table>\n",
       "</div>"
      ],
      "text/plain": [
       "           ID  Name       LogInTime      LogOutTime  PurchaseNum Location  \\\n",
       "index_0   101  Jack   2/10/18 13:10   2/10/18 14:30            1     Home   \n",
       "index_1   101  Jack   2/15/18 18:00   2/15/18 19:00            0     Home   \n",
       "index_2   101  Jack   2/15/18 20:00   2/15/18 22:30            0     Home   \n",
       "index_3   101  Jack   3/11/18 10:50   3/11/18 15:00            2  Outside   \n",
       "index_4   101  Jack   3/11/18 15:15   3/11/18 18:00            1     Home   \n",
       "index_5   101  Jack   5/10/18 18:00   5/10/18 21:00            4     Home   \n",
       "index_6   101  Jack   7/12/18 17:40   7/12/18 18:20            2     Work   \n",
       "index_7   101  Jack    6/5/18 15:25    6/5/18 19:45            0     Home   \n",
       "index_8   102   Amy    5/1/18 14:15    5/1/18 18:00            0     Work   \n",
       "index_9   102   Amy   6/10/18 16:00   6/10/18 23:00            2     Home   \n",
       "index_10  102   Amy   7/18/18 12:40   7/18/18 14:20            1     Work   \n",
       "index_11  102   Amy   6/15/18 15:25   6/15/18 19:45            1     Work   \n",
       "index_12  103   Tom   7/10/18 18:00   7/10/18 22:30            1     Work   \n",
       "index_13  103   Tom   7/12/18 14:40   7/12/18 18:40            1  Outside   \n",
       "index_14  103   Tom    6/7/18 15:25    6/7/18 21:45            4  Outside   \n",
       "index_15  103   Tom   5/19/18 14:15   5/19/18 20:00            2     Home   \n",
       "index_16  103   Tom   6/20/18 17:30   6/20/18 23:00            3     Work   \n",
       "index_17  103   Tom   7/28/18 12:40   7/28/18 14:20            2     Work   \n",
       "index_18  103   Tom  11/11/18 15:25  11/11/18 19:45            1     Home   \n",
       "\n",
       "          PurchaseAmount  Saving Purchase  \n",
       "index_0            150.0    1500      Yes  \n",
       "index_1              NaN    1350       No  \n",
       "index_2              NaN    1350       No  \n",
       "index_3            190.0    1350      Yes  \n",
       "index_4             30.0    1160      Yes  \n",
       "index_5            100.0    1130      Yes  \n",
       "index_6             28.0    1030      Yes  \n",
       "index_7              NaN    1002       No  \n",
       "index_8              NaN     800       No  \n",
       "index_9             80.0     800      Yes  \n",
       "index_10            50.0     720      Yes  \n",
       "index_11            40.0     670      Yes  \n",
       "index_12            40.0    3500      Yes  \n",
       "index_13            40.0    3460      Yes  \n",
       "index_14           200.0    3420      Yes  \n",
       "index_15            95.0    3220      Yes  \n",
       "index_16            60.0    3125      Yes  \n",
       "index_17            20.0    3065      Yes  \n",
       "index_18            50.0    3045      Yes  "
      ]
     },
     "execution_count": 33,
     "metadata": {},
     "output_type": "execute_result"
    }
   ],
   "source": [
    "data_missing"
   ]
  },
  {
   "cell_type": "code",
   "execution_count": 34,
   "metadata": {},
   "outputs": [
    {
     "data": {
      "text/html": [
       "<div>\n",
       "<style scoped>\n",
       "    .dataframe tbody tr th:only-of-type {\n",
       "        vertical-align: middle;\n",
       "    }\n",
       "\n",
       "    .dataframe tbody tr th {\n",
       "        vertical-align: top;\n",
       "    }\n",
       "\n",
       "    .dataframe thead th {\n",
       "        text-align: right;\n",
       "    }\n",
       "</style>\n",
       "<table border=\"1\" class=\"dataframe\">\n",
       "  <thead>\n",
       "    <tr style=\"text-align: right;\">\n",
       "      <th></th>\n",
       "      <th>ID</th>\n",
       "      <th>Name</th>\n",
       "      <th>LogInTime</th>\n",
       "      <th>LogOutTime</th>\n",
       "      <th>PurchaseNum</th>\n",
       "      <th>Location</th>\n",
       "      <th>PurchaseAmount</th>\n",
       "      <th>Saving</th>\n",
       "      <th>Purchase</th>\n",
       "    </tr>\n",
       "  </thead>\n",
       "  <tbody>\n",
       "    <tr>\n",
       "      <td>index_0</td>\n",
       "      <td>101</td>\n",
       "      <td>Jack</td>\n",
       "      <td>2/10/18 13:10</td>\n",
       "      <td>2/10/18 14:30</td>\n",
       "      <td>1</td>\n",
       "      <td>Home</td>\n",
       "      <td>150.0</td>\n",
       "      <td>1500</td>\n",
       "      <td>Yes</td>\n",
       "    </tr>\n",
       "    <tr>\n",
       "      <td>index_1</td>\n",
       "      <td>101</td>\n",
       "      <td>Jack</td>\n",
       "      <td>2/15/18 18:00</td>\n",
       "      <td>2/15/18 19:00</td>\n",
       "      <td>0</td>\n",
       "      <td>Home</td>\n",
       "      <td>100000.0</td>\n",
       "      <td>1350</td>\n",
       "      <td>No</td>\n",
       "    </tr>\n",
       "    <tr>\n",
       "      <td>index_2</td>\n",
       "      <td>101</td>\n",
       "      <td>Jack</td>\n",
       "      <td>2/15/18 20:00</td>\n",
       "      <td>2/15/18 22:30</td>\n",
       "      <td>0</td>\n",
       "      <td>Home</td>\n",
       "      <td>100000.0</td>\n",
       "      <td>1350</td>\n",
       "      <td>No</td>\n",
       "    </tr>\n",
       "  </tbody>\n",
       "</table>\n",
       "</div>"
      ],
      "text/plain": [
       "          ID  Name      LogInTime     LogOutTime  PurchaseNum Location  \\\n",
       "index_0  101  Jack  2/10/18 13:10  2/10/18 14:30            1     Home   \n",
       "index_1  101  Jack  2/15/18 18:00  2/15/18 19:00            0     Home   \n",
       "index_2  101  Jack  2/15/18 20:00  2/15/18 22:30            0     Home   \n",
       "\n",
       "         PurchaseAmount  Saving Purchase  \n",
       "index_0           150.0    1500      Yes  \n",
       "index_1        100000.0    1350       No  \n",
       "index_2        100000.0    1350       No  "
      ]
     },
     "execution_count": 34,
     "metadata": {},
     "output_type": "execute_result"
    }
   ],
   "source": [
    "data_missing.fillna(100000).head(3)"
   ]
  },
  {
   "cell_type": "code",
   "execution_count": 35,
   "metadata": {},
   "outputs": [
    {
     "data": {
      "text/html": [
       "<div>\n",
       "<style scoped>\n",
       "    .dataframe tbody tr th:only-of-type {\n",
       "        vertical-align: middle;\n",
       "    }\n",
       "\n",
       "    .dataframe tbody tr th {\n",
       "        vertical-align: top;\n",
       "    }\n",
       "\n",
       "    .dataframe thead th {\n",
       "        text-align: right;\n",
       "    }\n",
       "</style>\n",
       "<table border=\"1\" class=\"dataframe\">\n",
       "  <thead>\n",
       "    <tr style=\"text-align: right;\">\n",
       "      <th></th>\n",
       "      <th>ID</th>\n",
       "      <th>Name</th>\n",
       "      <th>LogInTime</th>\n",
       "      <th>LogOutTime</th>\n",
       "      <th>PurchaseNum</th>\n",
       "      <th>Location</th>\n",
       "      <th>PurchaseAmount</th>\n",
       "      <th>Saving</th>\n",
       "      <th>Purchase</th>\n",
       "    </tr>\n",
       "  </thead>\n",
       "  <tbody>\n",
       "    <tr>\n",
       "      <td>index_0</td>\n",
       "      <td>101</td>\n",
       "      <td>Jack</td>\n",
       "      <td>2/10/18 13:10</td>\n",
       "      <td>2/10/18 14:30</td>\n",
       "      <td>1</td>\n",
       "      <td>Home</td>\n",
       "      <td>150.0</td>\n",
       "      <td>1500</td>\n",
       "      <td>Yes</td>\n",
       "    </tr>\n",
       "    <tr>\n",
       "      <td>index_1</td>\n",
       "      <td>101</td>\n",
       "      <td>Jack</td>\n",
       "      <td>2/15/18 18:00</td>\n",
       "      <td>2/15/18 19:00</td>\n",
       "      <td>0</td>\n",
       "      <td>Home</td>\n",
       "      <td>150.0</td>\n",
       "      <td>1350</td>\n",
       "      <td>No</td>\n",
       "    </tr>\n",
       "    <tr>\n",
       "      <td>index_2</td>\n",
       "      <td>101</td>\n",
       "      <td>Jack</td>\n",
       "      <td>2/15/18 20:00</td>\n",
       "      <td>2/15/18 22:30</td>\n",
       "      <td>0</td>\n",
       "      <td>Home</td>\n",
       "      <td>150.0</td>\n",
       "      <td>1350</td>\n",
       "      <td>No</td>\n",
       "    </tr>\n",
       "  </tbody>\n",
       "</table>\n",
       "</div>"
      ],
      "text/plain": [
       "          ID  Name      LogInTime     LogOutTime  PurchaseNum Location  \\\n",
       "index_0  101  Jack  2/10/18 13:10  2/10/18 14:30            1     Home   \n",
       "index_1  101  Jack  2/15/18 18:00  2/15/18 19:00            0     Home   \n",
       "index_2  101  Jack  2/15/18 20:00  2/15/18 22:30            0     Home   \n",
       "\n",
       "         PurchaseAmount  Saving Purchase  \n",
       "index_0           150.0    1500      Yes  \n",
       "index_1           150.0    1350       No  \n",
       "index_2           150.0    1350       No  "
      ]
     },
     "execution_count": 35,
     "metadata": {},
     "output_type": "execute_result"
    }
   ],
   "source": [
    "data_missing.fillna(method=\"ffill\").head(3)"
   ]
  },
  {
   "cell_type": "code",
   "execution_count": 36,
   "metadata": {},
   "outputs": [
    {
     "data": {
      "text/html": [
       "<div>\n",
       "<style scoped>\n",
       "    .dataframe tbody tr th:only-of-type {\n",
       "        vertical-align: middle;\n",
       "    }\n",
       "\n",
       "    .dataframe tbody tr th {\n",
       "        vertical-align: top;\n",
       "    }\n",
       "\n",
       "    .dataframe thead th {\n",
       "        text-align: right;\n",
       "    }\n",
       "</style>\n",
       "<table border=\"1\" class=\"dataframe\">\n",
       "  <thead>\n",
       "    <tr style=\"text-align: right;\">\n",
       "      <th></th>\n",
       "      <th>ID</th>\n",
       "      <th>Name</th>\n",
       "      <th>LogInTime</th>\n",
       "      <th>LogOutTime</th>\n",
       "      <th>PurchaseNum</th>\n",
       "      <th>Location</th>\n",
       "      <th>PurchaseAmount</th>\n",
       "      <th>Saving</th>\n",
       "      <th>Purchase</th>\n",
       "    </tr>\n",
       "  </thead>\n",
       "  <tbody>\n",
       "    <tr>\n",
       "      <td>index_0</td>\n",
       "      <td>101</td>\n",
       "      <td>Jack</td>\n",
       "      <td>2/10/18 13:10</td>\n",
       "      <td>2/10/18 14:30</td>\n",
       "      <td>1</td>\n",
       "      <td>Home</td>\n",
       "      <td>150.0</td>\n",
       "      <td>1500</td>\n",
       "      <td>Yes</td>\n",
       "    </tr>\n",
       "    <tr>\n",
       "      <td>index_1</td>\n",
       "      <td>101</td>\n",
       "      <td>Jack</td>\n",
       "      <td>2/15/18 18:00</td>\n",
       "      <td>2/15/18 19:00</td>\n",
       "      <td>0</td>\n",
       "      <td>Home</td>\n",
       "      <td>190.0</td>\n",
       "      <td>1350</td>\n",
       "      <td>No</td>\n",
       "    </tr>\n",
       "    <tr>\n",
       "      <td>index_2</td>\n",
       "      <td>101</td>\n",
       "      <td>Jack</td>\n",
       "      <td>2/15/18 20:00</td>\n",
       "      <td>2/15/18 22:30</td>\n",
       "      <td>0</td>\n",
       "      <td>Home</td>\n",
       "      <td>190.0</td>\n",
       "      <td>1350</td>\n",
       "      <td>No</td>\n",
       "    </tr>\n",
       "  </tbody>\n",
       "</table>\n",
       "</div>"
      ],
      "text/plain": [
       "          ID  Name      LogInTime     LogOutTime  PurchaseNum Location  \\\n",
       "index_0  101  Jack  2/10/18 13:10  2/10/18 14:30            1     Home   \n",
       "index_1  101  Jack  2/15/18 18:00  2/15/18 19:00            0     Home   \n",
       "index_2  101  Jack  2/15/18 20:00  2/15/18 22:30            0     Home   \n",
       "\n",
       "         PurchaseAmount  Saving Purchase  \n",
       "index_0           150.0    1500      Yes  \n",
       "index_1           190.0    1350       No  \n",
       "index_2           190.0    1350       No  "
      ]
     },
     "execution_count": 36,
     "metadata": {},
     "output_type": "execute_result"
    }
   ],
   "source": [
    "data_missing.fillna(method=\"bfill\").head(3)"
   ]
  }
 ],
 "metadata": {
  "kernelspec": {
   "display_name": "Python 3",
   "language": "python",
   "name": "python3"
  },
  "language_info": {
   "codemirror_mode": {
    "name": "ipython",
    "version": 3
   },
   "file_extension": ".py",
   "mimetype": "text/x-python",
   "name": "python",
   "nbconvert_exporter": "python",
   "pygments_lexer": "ipython3",
   "version": "3.7.4"
  }
 },
 "nbformat": 4,
 "nbformat_minor": 2
}
