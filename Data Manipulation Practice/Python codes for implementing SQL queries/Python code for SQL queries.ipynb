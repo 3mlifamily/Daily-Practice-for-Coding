{
 "cells": [
  {
   "cell_type": "code",
   "execution_count": 4,
   "metadata": {},
   "outputs": [],
   "source": [
    "import pandas as pd\n",
    "import numpy as np\n",
    "import sqlite3\n",
    "import matplotlib.pyplot as plt \n",
    "import matplotlib.image as mpimg \n",
    "from scipy import misc\n",
    "from PIL import Image"
   ]
  },
  {
   "cell_type": "markdown",
   "metadata": {},
   "source": [
    "### Creating connection between Python and Sqlite3"
   ]
  },
  {
   "cell_type": "code",
   "execution_count": 5,
   "metadata": {},
   "outputs": [],
   "source": [
    "conn = sqlite3.connect(\"local.db\")\n",
    "cursor = conn.cursor()"
   ]
  },
  {
   "cell_type": "markdown",
   "metadata": {},
   "source": [
    "### Creating Database"
   ]
  },
  {
   "cell_type": "code",
   "execution_count": 6,
   "metadata": {},
   "outputs": [
    {
     "name": "stdout",
     "output_type": "stream",
     "text": [
      "[(1, 122, '989319-457', '2014-04-08', 3813.33, 3813.33, 0, 3, '2014-05-08', '2014-05-07'), (2, 123, '263253241', '2014-04-10', 40.2, 40.2, 0, 3, '2014-05-10', '2014-05-14'), (3, 123, '963253234', '2014-04-13', 138.75, 138.75, 0, 3, '2014-05-13', '2014-05-09'), (4, 123, '2-000-2993', '2014-04-16', 144.7, 144.7, 0, 3, '2014-05-16', '2014-05-12'), (5, 123, '963253251', '2014-04-16', 15.5, 15.5, 0, 3, '2014-05-16', '2014-05-11')]\n"
     ]
    }
   ],
   "source": [
    "cursor.execute(\"SELECT * FROM invoices LIMIT 5\")\n",
    "query_results_temp = cursor.fetchall()\n",
    "print(query_results_temp)"
   ]
  },
  {
   "cell_type": "code",
   "execution_count": 7,
   "metadata": {},
   "outputs": [],
   "source": [
    "general_ledger_accounts = pd.read_sql(sql=\"SELECT * FROM general_ledger_accounts\",con=conn)\n",
    "terms = pd.read_sql(sql=\"SELECT * FROM terms\",con=conn)\n",
    "vendors = pd.read_sql(sql=\"SELECT * FROM vendors\",con=conn)\n",
    "invoices = pd.read_sql(sql=\"SELECT * FROM invoices\",con=conn)\n",
    "invoice_line_items = pd.read_sql(sql=\"SELECT * FROM invoice_line_items\",con=conn)\n",
    "vendor_contacts = pd.read_sql(sql=\"SELECT * FROM vendor_contacts\",con=conn)\n",
    "invoice_archive = pd.read_sql(sql=\"SELECT * FROM invoice_archive\",con=conn)"
   ]
  },
  {
   "cell_type": "markdown",
   "metadata": {},
   "source": [
    "# Basic SQL query"
   ]
  },
  {
   "cell_type": "markdown",
   "metadata": {},
   "source": [
    "### Order of executing SQL query\n",
    "### FROM - WHERE - GROUP BY - HAVING - SELECT - ORDER BY - LIMIT"
   ]
  },
  {
   "cell_type": "code",
   "execution_count": 8,
   "metadata": {},
   "outputs": [],
   "source": [
    "# Relationship of the database\n",
    "# im = Image.open('database_relationship.png')\n",
    "# im.show()"
   ]
  },
  {
   "cell_type": "markdown",
   "metadata": {},
   "source": [
    "### Basic query with `FROM` &`WHERE` & `LIMIT`"
   ]
  },
  {
   "cell_type": "code",
   "execution_count": 9,
   "metadata": {},
   "outputs": [
    {
     "data": {
      "text/html": [
       "<div>\n",
       "<style scoped>\n",
       "    .dataframe tbody tr th:only-of-type {\n",
       "        vertical-align: middle;\n",
       "    }\n",
       "\n",
       "    .dataframe tbody tr th {\n",
       "        vertical-align: top;\n",
       "    }\n",
       "\n",
       "    .dataframe thead th {\n",
       "        text-align: right;\n",
       "    }\n",
       "</style>\n",
       "<table border=\"1\" class=\"dataframe\">\n",
       "  <thead>\n",
       "    <tr style=\"text-align: right;\">\n",
       "      <th></th>\n",
       "      <th>invoice_id</th>\n",
       "      <th>vendor_id</th>\n",
       "      <th>invoice_number</th>\n",
       "      <th>invoice_date</th>\n",
       "      <th>invoice_total</th>\n",
       "      <th>payment_total</th>\n",
       "      <th>credit_total</th>\n",
       "      <th>terms_id</th>\n",
       "      <th>invoice_due_date</th>\n",
       "      <th>payment_date</th>\n",
       "    </tr>\n",
       "  </thead>\n",
       "  <tbody>\n",
       "    <tr>\n",
       "      <td>0</td>\n",
       "      <td>78</td>\n",
       "      <td>121</td>\n",
       "      <td>97/522</td>\n",
       "      <td>2014-06-28</td>\n",
       "      <td>1962.13</td>\n",
       "      <td>1762.13</td>\n",
       "      <td>200.00</td>\n",
       "      <td>3</td>\n",
       "      <td>2014-07-28</td>\n",
       "      <td>2014-07-30</td>\n",
       "    </tr>\n",
       "    <tr>\n",
       "      <td>1</td>\n",
       "      <td>106</td>\n",
       "      <td>110</td>\n",
       "      <td>0-2060</td>\n",
       "      <td>2014-07-24</td>\n",
       "      <td>23517.58</td>\n",
       "      <td>21221.63</td>\n",
       "      <td>2295.95</td>\n",
       "      <td>3</td>\n",
       "      <td>2014-08-23</td>\n",
       "      <td>2014-08-27</td>\n",
       "    </tr>\n",
       "  </tbody>\n",
       "</table>\n",
       "</div>"
      ],
      "text/plain": [
       "   invoice_id  vendor_id invoice_number invoice_date  invoice_total  \\\n",
       "0          78        121         97/522   2014-06-28        1962.13   \n",
       "1         106        110         0-2060   2014-07-24       23517.58   \n",
       "\n",
       "   payment_total  credit_total  terms_id invoice_due_date payment_date  \n",
       "0        1762.13        200.00         3       2014-07-28   2014-07-30  \n",
       "1       21221.63       2295.95         3       2014-08-23   2014-08-27  "
      ]
     },
     "execution_count": 9,
     "metadata": {},
     "output_type": "execute_result"
    }
   ],
   "source": [
    "cursor.execute(\"\"\"\n",
    "SELECT * \n",
    "FROM invoices \n",
    "WHERE payment_total >10 and credit_total >50\n",
    "LIMIT 2\n",
    "\"\"\")\n",
    "query_results_temp = cursor.fetchall()\n",
    "df_temp = pd.DataFrame(query_results_temp)\n",
    "df_temp.columns=(invoices[(invoices[\"payment_total\"]>10)].columns) # For displaying the column names\n",
    "df_temp"
   ]
  },
  {
   "cell_type": "code",
   "execution_count": 10,
   "metadata": {
    "scrolled": true
   },
   "outputs": [
    {
     "data": {
      "text/html": [
       "<div>\n",
       "<style scoped>\n",
       "    .dataframe tbody tr th:only-of-type {\n",
       "        vertical-align: middle;\n",
       "    }\n",
       "\n",
       "    .dataframe tbody tr th {\n",
       "        vertical-align: top;\n",
       "    }\n",
       "\n",
       "    .dataframe thead th {\n",
       "        text-align: right;\n",
       "    }\n",
       "</style>\n",
       "<table border=\"1\" class=\"dataframe\">\n",
       "  <thead>\n",
       "    <tr style=\"text-align: right;\">\n",
       "      <th></th>\n",
       "      <th>invoice_id</th>\n",
       "      <th>vendor_id</th>\n",
       "      <th>invoice_number</th>\n",
       "      <th>invoice_date</th>\n",
       "      <th>invoice_total</th>\n",
       "      <th>payment_total</th>\n",
       "      <th>credit_total</th>\n",
       "      <th>terms_id</th>\n",
       "      <th>invoice_due_date</th>\n",
       "      <th>payment_date</th>\n",
       "    </tr>\n",
       "  </thead>\n",
       "  <tbody>\n",
       "    <tr>\n",
       "      <td>77</td>\n",
       "      <td>78</td>\n",
       "      <td>121</td>\n",
       "      <td>97/522</td>\n",
       "      <td>2014-06-28</td>\n",
       "      <td>1962.13</td>\n",
       "      <td>1762.13</td>\n",
       "      <td>200.00</td>\n",
       "      <td>3</td>\n",
       "      <td>2014-07-28</td>\n",
       "      <td>2014-07-30</td>\n",
       "    </tr>\n",
       "    <tr>\n",
       "      <td>105</td>\n",
       "      <td>106</td>\n",
       "      <td>110</td>\n",
       "      <td>0-2060</td>\n",
       "      <td>2014-07-24</td>\n",
       "      <td>23517.58</td>\n",
       "      <td>21221.63</td>\n",
       "      <td>2295.95</td>\n",
       "      <td>3</td>\n",
       "      <td>2014-08-23</td>\n",
       "      <td>2014-08-27</td>\n",
       "    </tr>\n",
       "  </tbody>\n",
       "</table>\n",
       "</div>"
      ],
      "text/plain": [
       "     invoice_id  vendor_id invoice_number invoice_date  invoice_total  \\\n",
       "77           78        121         97/522   2014-06-28        1962.13   \n",
       "105         106        110         0-2060   2014-07-24       23517.58   \n",
       "\n",
       "     payment_total  credit_total  terms_id invoice_due_date payment_date  \n",
       "77         1762.13        200.00         3       2014-07-28   2014-07-30  \n",
       "105       21221.63       2295.95         3       2014-08-23   2014-08-27  "
      ]
     },
     "execution_count": 10,
     "metadata": {},
     "output_type": "execute_result"
    }
   ],
   "source": [
    "invoices[(invoices[\"payment_total\"]>10) \\\n",
    "         &(invoices[\"credit_total\"]>50)].head(2)\n"
   ]
  },
  {
   "cell_type": "markdown",
   "metadata": {},
   "source": [
    "### Basic query with `WHERE` & `IN` & select specific columns\n"
   ]
  },
  {
   "cell_type": "code",
   "execution_count": 11,
   "metadata": {},
   "outputs": [
    {
     "data": {
      "text/html": [
       "<div>\n",
       "<style scoped>\n",
       "    .dataframe tbody tr th:only-of-type {\n",
       "        vertical-align: middle;\n",
       "    }\n",
       "\n",
       "    .dataframe tbody tr th {\n",
       "        vertical-align: top;\n",
       "    }\n",
       "\n",
       "    .dataframe thead th {\n",
       "        text-align: right;\n",
       "    }\n",
       "</style>\n",
       "<table border=\"1\" class=\"dataframe\">\n",
       "  <thead>\n",
       "    <tr style=\"text-align: right;\">\n",
       "      <th></th>\n",
       "      <th>0</th>\n",
       "      <th>1</th>\n",
       "      <th>2</th>\n",
       "    </tr>\n",
       "  </thead>\n",
       "  <tbody>\n",
       "    <tr>\n",
       "      <td>0</td>\n",
       "      <td>1</td>\n",
       "      <td>989319-457</td>\n",
       "      <td>3813.33</td>\n",
       "    </tr>\n",
       "    <tr>\n",
       "      <td>1</td>\n",
       "      <td>2</td>\n",
       "      <td>263253241</td>\n",
       "      <td>40.20</td>\n",
       "    </tr>\n",
       "  </tbody>\n",
       "</table>\n",
       "</div>"
      ],
      "text/plain": [
       "   0           1        2\n",
       "0  1  989319-457  3813.33\n",
       "1  2   263253241    40.20"
      ]
     },
     "execution_count": 11,
     "metadata": {},
     "output_type": "execute_result"
    }
   ],
   "source": [
    "cursor.execute(\"\"\"\n",
    "SELECT \n",
    "invoice_id,\n",
    "invoice_number,\n",
    "invoice_total\n",
    "FROM invoices \n",
    "WHERE payment_total NOT IN (0,15.5,40.5) \n",
    "ORDER BY invoice_id\n",
    "LIMIT 2\n",
    "\"\"\")\n",
    "query_results_temp = cursor.fetchall()\n",
    "df_temp = pd.DataFrame(query_results_temp)\n",
    "\n",
    "df_temp"
   ]
  },
  {
   "cell_type": "code",
   "execution_count": 12,
   "metadata": {
    "scrolled": true
   },
   "outputs": [
    {
     "data": {
      "text/html": [
       "<div>\n",
       "<style scoped>\n",
       "    .dataframe tbody tr th:only-of-type {\n",
       "        vertical-align: middle;\n",
       "    }\n",
       "\n",
       "    .dataframe tbody tr th {\n",
       "        vertical-align: top;\n",
       "    }\n",
       "\n",
       "    .dataframe thead th {\n",
       "        text-align: right;\n",
       "    }\n",
       "</style>\n",
       "<table border=\"1\" class=\"dataframe\">\n",
       "  <thead>\n",
       "    <tr style=\"text-align: right;\">\n",
       "      <th></th>\n",
       "      <th>invoice_id</th>\n",
       "      <th>invoice_number</th>\n",
       "      <th>invoice_total</th>\n",
       "    </tr>\n",
       "  </thead>\n",
       "  <tbody>\n",
       "    <tr>\n",
       "      <td>0</td>\n",
       "      <td>1</td>\n",
       "      <td>989319-457</td>\n",
       "      <td>3813.33</td>\n",
       "    </tr>\n",
       "    <tr>\n",
       "      <td>1</td>\n",
       "      <td>2</td>\n",
       "      <td>263253241</td>\n",
       "      <td>40.20</td>\n",
       "    </tr>\n",
       "  </tbody>\n",
       "</table>\n",
       "</div>"
      ],
      "text/plain": [
       "   invoice_id invoice_number  invoice_total\n",
       "0           1     989319-457        3813.33\n",
       "1           2      263253241          40.20"
      ]
     },
     "execution_count": 12,
     "metadata": {},
     "output_type": "execute_result"
    }
   ],
   "source": [
    "invoices[~invoices[\"payment_total\"].isin([0,15.5,40.5])] \\\n",
    ".sort_values(\"invoice_id\")[[\"invoice_id\",\"invoice_number\" \\\n",
    "                            ,\"invoice_total\"]].head(2)\n"
   ]
  },
  {
   "cell_type": "markdown",
   "metadata": {},
   "source": [
    "### Basic query with`ORDER BY` using different order `DESC` or `ASC`"
   ]
  },
  {
   "cell_type": "code",
   "execution_count": 13,
   "metadata": {},
   "outputs": [
    {
     "data": {
      "text/html": [
       "<div>\n",
       "<style scoped>\n",
       "    .dataframe tbody tr th:only-of-type {\n",
       "        vertical-align: middle;\n",
       "    }\n",
       "\n",
       "    .dataframe tbody tr th {\n",
       "        vertical-align: top;\n",
       "    }\n",
       "\n",
       "    .dataframe thead th {\n",
       "        text-align: right;\n",
       "    }\n",
       "</style>\n",
       "<table border=\"1\" class=\"dataframe\">\n",
       "  <thead>\n",
       "    <tr style=\"text-align: right;\">\n",
       "      <th></th>\n",
       "      <th>0</th>\n",
       "      <th>1</th>\n",
       "      <th>2</th>\n",
       "    </tr>\n",
       "  </thead>\n",
       "  <tbody>\n",
       "    <tr>\n",
       "      <td>0</td>\n",
       "      <td>59</td>\n",
       "      <td>4-314-3057</td>\n",
       "      <td>13.75</td>\n",
       "    </tr>\n",
       "    <tr>\n",
       "      <td>1</td>\n",
       "      <td>5</td>\n",
       "      <td>963253251</td>\n",
       "      <td>15.50</td>\n",
       "    </tr>\n",
       "  </tbody>\n",
       "</table>\n",
       "</div>"
      ],
      "text/plain": [
       "    0           1      2\n",
       "0  59  4-314-3057  13.75\n",
       "1   5   963253251  15.50"
      ]
     },
     "execution_count": 13,
     "metadata": {},
     "output_type": "execute_result"
    }
   ],
   "source": [
    "cursor.execute(\"\"\"\n",
    "SELECT \n",
    "invoice_id,\n",
    "invoice_number,\n",
    "invoice_total\n",
    "FROM invoices \n",
    "WHERE payment_total > 10\n",
    "ORDER BY invoice_total, invoice_id DESC\n",
    "LIMIT 2\n",
    "\"\"\")\n",
    "query_results_temp = cursor.fetchall()\n",
    "df_temp = pd.DataFrame(query_results_temp)\n",
    "\n",
    "df_temp"
   ]
  },
  {
   "cell_type": "code",
   "execution_count": 14,
   "metadata": {},
   "outputs": [
    {
     "data": {
      "text/html": [
       "<div>\n",
       "<style scoped>\n",
       "    .dataframe tbody tr th:only-of-type {\n",
       "        vertical-align: middle;\n",
       "    }\n",
       "\n",
       "    .dataframe tbody tr th {\n",
       "        vertical-align: top;\n",
       "    }\n",
       "\n",
       "    .dataframe thead th {\n",
       "        text-align: right;\n",
       "    }\n",
       "</style>\n",
       "<table border=\"1\" class=\"dataframe\">\n",
       "  <thead>\n",
       "    <tr style=\"text-align: right;\">\n",
       "      <th></th>\n",
       "      <th>invoice_id</th>\n",
       "      <th>invoice_number</th>\n",
       "      <th>invoice_total</th>\n",
       "    </tr>\n",
       "  </thead>\n",
       "  <tbody>\n",
       "    <tr>\n",
       "      <td>58</td>\n",
       "      <td>59</td>\n",
       "      <td>4-314-3057</td>\n",
       "      <td>13.75</td>\n",
       "    </tr>\n",
       "    <tr>\n",
       "      <td>4</td>\n",
       "      <td>5</td>\n",
       "      <td>963253251</td>\n",
       "      <td>15.50</td>\n",
       "    </tr>\n",
       "  </tbody>\n",
       "</table>\n",
       "</div>"
      ],
      "text/plain": [
       "    invoice_id invoice_number  invoice_total\n",
       "58          59     4-314-3057          13.75\n",
       "4            5      963253251          15.50"
      ]
     },
     "execution_count": 14,
     "metadata": {},
     "output_type": "execute_result"
    }
   ],
   "source": [
    "invoices[(invoices[\"payment_total\"]>10)].sort_values(by= \\\n",
    "[\"invoice_total\",\"invoice_id\"],ascending = [True,False]) \\\n",
    "[[\"invoice_id\",\"invoice_number\",\"invoice_total\"]].head(2)\n"
   ]
  },
  {
   "cell_type": "markdown",
   "metadata": {},
   "source": [
    "### Basic query with `WHERE` & `LIMIT` & `ORDER BY` & specific multiple columns"
   ]
  },
  {
   "cell_type": "code",
   "execution_count": 15,
   "metadata": {},
   "outputs": [
    {
     "data": {
      "text/html": [
       "<div>\n",
       "<style scoped>\n",
       "    .dataframe tbody tr th:only-of-type {\n",
       "        vertical-align: middle;\n",
       "    }\n",
       "\n",
       "    .dataframe tbody tr th {\n",
       "        vertical-align: top;\n",
       "    }\n",
       "\n",
       "    .dataframe thead th {\n",
       "        text-align: right;\n",
       "    }\n",
       "</style>\n",
       "<table border=\"1\" class=\"dataframe\">\n",
       "  <thead>\n",
       "    <tr style=\"text-align: right;\">\n",
       "      <th></th>\n",
       "      <th>0</th>\n",
       "      <th>1</th>\n",
       "      <th>2</th>\n",
       "    </tr>\n",
       "  </thead>\n",
       "  <tbody>\n",
       "    <tr>\n",
       "      <td>0</td>\n",
       "      <td>1</td>\n",
       "      <td>989319-457</td>\n",
       "      <td>3813.33</td>\n",
       "    </tr>\n",
       "    <tr>\n",
       "      <td>1</td>\n",
       "      <td>2</td>\n",
       "      <td>263253241</td>\n",
       "      <td>40.20</td>\n",
       "    </tr>\n",
       "  </tbody>\n",
       "</table>\n",
       "</div>"
      ],
      "text/plain": [
       "   0           1        2\n",
       "0  1  989319-457  3813.33\n",
       "1  2   263253241    40.20"
      ]
     },
     "execution_count": 15,
     "metadata": {},
     "output_type": "execute_result"
    }
   ],
   "source": [
    "cursor.execute(\"\"\"\n",
    "SELECT \n",
    "invoice_id,\n",
    "invoice_number,\n",
    "invoice_total\n",
    "FROM invoices \n",
    "WHERE payment_total >5 \n",
    "ORDER BY invoice_id\n",
    "LIMIT 2\n",
    "\"\"\")\n",
    "query_results_temp = cursor.fetchall()\n",
    "df_temp = pd.DataFrame(query_results_temp)\n",
    "df_temp"
   ]
  },
  {
   "cell_type": "code",
   "execution_count": 16,
   "metadata": {},
   "outputs": [
    {
     "data": {
      "text/html": [
       "<div>\n",
       "<style scoped>\n",
       "    .dataframe tbody tr th:only-of-type {\n",
       "        vertical-align: middle;\n",
       "    }\n",
       "\n",
       "    .dataframe tbody tr th {\n",
       "        vertical-align: top;\n",
       "    }\n",
       "\n",
       "    .dataframe thead th {\n",
       "        text-align: right;\n",
       "    }\n",
       "</style>\n",
       "<table border=\"1\" class=\"dataframe\">\n",
       "  <thead>\n",
       "    <tr style=\"text-align: right;\">\n",
       "      <th></th>\n",
       "      <th>invoice_id</th>\n",
       "      <th>invoice_number</th>\n",
       "      <th>invoice_total</th>\n",
       "    </tr>\n",
       "  </thead>\n",
       "  <tbody>\n",
       "    <tr>\n",
       "      <td>0</td>\n",
       "      <td>1</td>\n",
       "      <td>989319-457</td>\n",
       "      <td>3813.33</td>\n",
       "    </tr>\n",
       "    <tr>\n",
       "      <td>1</td>\n",
       "      <td>2</td>\n",
       "      <td>263253241</td>\n",
       "      <td>40.20</td>\n",
       "    </tr>\n",
       "  </tbody>\n",
       "</table>\n",
       "</div>"
      ],
      "text/plain": [
       "   invoice_id invoice_number  invoice_total\n",
       "0           1     989319-457        3813.33\n",
       "1           2      263253241          40.20"
      ]
     },
     "execution_count": 16,
     "metadata": {},
     "output_type": "execute_result"
    }
   ],
   "source": [
    "invoices[(invoices[\"payment_total\"]>5)].sort_values(by=[\"invoice_id\"]) \\\n",
    "[[\"invoice_id\",\"invoice_number\",\"invoice_total\"]].head(2)"
   ]
  },
  {
   "cell_type": "markdown",
   "metadata": {},
   "source": [
    "### Basic query with`UNION` & Other functions"
   ]
  },
  {
   "cell_type": "code",
   "execution_count": 17,
   "metadata": {},
   "outputs": [
    {
     "data": {
      "text/html": [
       "<div>\n",
       "<style scoped>\n",
       "    .dataframe tbody tr th:only-of-type {\n",
       "        vertical-align: middle;\n",
       "    }\n",
       "\n",
       "    .dataframe tbody tr th {\n",
       "        vertical-align: top;\n",
       "    }\n",
       "\n",
       "    .dataframe thead th {\n",
       "        text-align: right;\n",
       "    }\n",
       "</style>\n",
       "<table border=\"1\" class=\"dataframe\">\n",
       "  <thead>\n",
       "    <tr style=\"text-align: right;\">\n",
       "      <th></th>\n",
       "      <th>0</th>\n",
       "      <th>1</th>\n",
       "    </tr>\n",
       "  </thead>\n",
       "  <tbody>\n",
       "    <tr>\n",
       "      <td>0</td>\n",
       "      <td>1</td>\n",
       "      <td>3813.33</td>\n",
       "    </tr>\n",
       "    <tr>\n",
       "      <td>1</td>\n",
       "      <td>3</td>\n",
       "      <td>138.75</td>\n",
       "    </tr>\n",
       "    <tr>\n",
       "      <td>2</td>\n",
       "      <td>4</td>\n",
       "      <td>144.70</td>\n",
       "    </tr>\n",
       "  </tbody>\n",
       "</table>\n",
       "</div>"
      ],
      "text/plain": [
       "   0        1\n",
       "0  1  3813.33\n",
       "1  3   138.75\n",
       "2  4   144.70"
      ]
     },
     "execution_count": 17,
     "metadata": {},
     "output_type": "execute_result"
    }
   ],
   "source": [
    "cursor.execute(\"\"\"\n",
    "SELECT \n",
    "invoice_id,\n",
    "payment_total\n",
    "FROM invoices \n",
    "WHERE payment_total >50 \n",
    "UNION \n",
    "SELECT \n",
    "invoice_id,\n",
    "payment_total\n",
    "FROM invoices \n",
    "WHERE payment_total <30 \n",
    "ORDER BY invoice_id ASC\n",
    "LIMIT 3\n",
    "\"\"\")\n",
    "query_results_temp = cursor.fetchall()\n",
    "df_temp = pd.DataFrame(query_results_temp)\n",
    "df_temp"
   ]
  },
  {
   "cell_type": "code",
   "execution_count": 18,
   "metadata": {},
   "outputs": [
    {
     "data": {
      "text/html": [
       "<div>\n",
       "<style scoped>\n",
       "    .dataframe tbody tr th:only-of-type {\n",
       "        vertical-align: middle;\n",
       "    }\n",
       "\n",
       "    .dataframe tbody tr th {\n",
       "        vertical-align: top;\n",
       "    }\n",
       "\n",
       "    .dataframe thead th {\n",
       "        text-align: right;\n",
       "    }\n",
       "</style>\n",
       "<table border=\"1\" class=\"dataframe\">\n",
       "  <thead>\n",
       "    <tr style=\"text-align: right;\">\n",
       "      <th></th>\n",
       "      <th>invoice_id</th>\n",
       "      <th>payment_total</th>\n",
       "    </tr>\n",
       "  </thead>\n",
       "  <tbody>\n",
       "    <tr>\n",
       "      <td>0</td>\n",
       "      <td>1</td>\n",
       "      <td>3813.33</td>\n",
       "    </tr>\n",
       "    <tr>\n",
       "      <td>2</td>\n",
       "      <td>3</td>\n",
       "      <td>138.75</td>\n",
       "    </tr>\n",
       "    <tr>\n",
       "      <td>3</td>\n",
       "      <td>4</td>\n",
       "      <td>144.70</td>\n",
       "    </tr>\n",
       "  </tbody>\n",
       "</table>\n",
       "</div>"
      ],
      "text/plain": [
       "   invoice_id  payment_total\n",
       "0           1        3813.33\n",
       "2           3         138.75\n",
       "3           4         144.70"
      ]
     },
     "execution_count": 18,
     "metadata": {},
     "output_type": "execute_result"
    }
   ],
   "source": [
    "pd.concat([invoices[invoices[\"payment_total\"]>50][[\"invoice_id\",\"payment_total\"]], \\\n",
    "invoices[invoices[\"payment_total\"]<30][[\"invoice_id\",\"payment_total\"]]],sort=False,axis=0). \\\n",
    "sort_values(\"invoice_id\",ascending = True).head(3)"
   ]
  },
  {
   "cell_type": "markdown",
   "metadata": {},
   "source": [
    "# Aggregation SQL query"
   ]
  },
  {
   "cell_type": "markdown",
   "metadata": {},
   "source": [
    "### Simple aggregation query with `GROUP BY`&`SUM` & `ORDER BY` & `LIMIT`"
   ]
  },
  {
   "cell_type": "code",
   "execution_count": 19,
   "metadata": {},
   "outputs": [
    {
     "data": {
      "text/html": [
       "<div>\n",
       "<style scoped>\n",
       "    .dataframe tbody tr th:only-of-type {\n",
       "        vertical-align: middle;\n",
       "    }\n",
       "\n",
       "    .dataframe tbody tr th {\n",
       "        vertical-align: top;\n",
       "    }\n",
       "\n",
       "    .dataframe thead th {\n",
       "        text-align: right;\n",
       "    }\n",
       "</style>\n",
       "<table border=\"1\" class=\"dataframe\">\n",
       "  <thead>\n",
       "    <tr style=\"text-align: right;\">\n",
       "      <th></th>\n",
       "      <th>0</th>\n",
       "      <th>1</th>\n",
       "    </tr>\n",
       "  </thead>\n",
       "  <tbody>\n",
       "    <tr>\n",
       "      <td>0</td>\n",
       "      <td>34</td>\n",
       "      <td>116.54</td>\n",
       "    </tr>\n",
       "    <tr>\n",
       "      <td>1</td>\n",
       "      <td>34</td>\n",
       "      <td>1083.58</td>\n",
       "    </tr>\n",
       "  </tbody>\n",
       "</table>\n",
       "</div>"
      ],
      "text/plain": [
       "    0        1\n",
       "0  34   116.54\n",
       "1  34  1083.58"
      ]
     },
     "execution_count": 19,
     "metadata": {},
     "output_type": "execute_result"
    }
   ],
   "source": [
    "cursor.execute(\"\"\"\n",
    "SELECT  \n",
    "vendor_id,\n",
    "SUM(invoice_total)\n",
    "FROM invoices \n",
    "GROUP BY vendor_id,invoice_date\n",
    "ORDER BY vendor_id\n",
    "LIMIT 2\n",
    "\"\"\")\n",
    "query_results_temp = cursor.fetchall()\n",
    "df_temp = pd.DataFrame(query_results_temp)\n",
    "df_temp"
   ]
  },
  {
   "cell_type": "code",
   "execution_count": 20,
   "metadata": {},
   "outputs": [
    {
     "data": {
      "text/html": [
       "<div>\n",
       "<style scoped>\n",
       "    .dataframe tbody tr th:only-of-type {\n",
       "        vertical-align: middle;\n",
       "    }\n",
       "\n",
       "    .dataframe tbody tr th {\n",
       "        vertical-align: top;\n",
       "    }\n",
       "\n",
       "    .dataframe thead th {\n",
       "        text-align: right;\n",
       "    }\n",
       "</style>\n",
       "<table border=\"1\" class=\"dataframe\">\n",
       "  <thead>\n",
       "    <tr style=\"text-align: right;\">\n",
       "      <th></th>\n",
       "      <th>vendor_id</th>\n",
       "      <th>invoice_date</th>\n",
       "      <th>invoice_total</th>\n",
       "    </tr>\n",
       "  </thead>\n",
       "  <tbody>\n",
       "    <tr>\n",
       "      <td>0</td>\n",
       "      <td>34</td>\n",
       "      <td>2014-05-07</td>\n",
       "      <td>116.54</td>\n",
       "    </tr>\n",
       "    <tr>\n",
       "      <td>1</td>\n",
       "      <td>34</td>\n",
       "      <td>2014-06-09</td>\n",
       "      <td>1083.58</td>\n",
       "    </tr>\n",
       "  </tbody>\n",
       "</table>\n",
       "</div>"
      ],
      "text/plain": [
       "   vendor_id invoice_date  invoice_total\n",
       "0         34   2014-05-07         116.54\n",
       "1         34   2014-06-09        1083.58"
      ]
     },
     "execution_count": 20,
     "metadata": {},
     "output_type": "execute_result"
    }
   ],
   "source": [
    "invoices.groupby([\"vendor_id\",\"invoice_date\"]).agg({\"invoice_total\":\"sum\"}) \\\n",
    ".reset_index().sort_values(by=[\"vendor_id\"]).head(2)"
   ]
  },
  {
   "cell_type": "markdown",
   "metadata": {},
   "source": [
    "### Simple aggregation query with `SUM` & `ORDER BY` & `LIMIT` & `WHERE` & `HAVING`"
   ]
  },
  {
   "cell_type": "code",
   "execution_count": 21,
   "metadata": {},
   "outputs": [
    {
     "data": {
      "text/html": [
       "<div>\n",
       "<style scoped>\n",
       "    .dataframe tbody tr th:only-of-type {\n",
       "        vertical-align: middle;\n",
       "    }\n",
       "\n",
       "    .dataframe tbody tr th {\n",
       "        vertical-align: top;\n",
       "    }\n",
       "\n",
       "    .dataframe thead th {\n",
       "        text-align: right;\n",
       "    }\n",
       "</style>\n",
       "<table border=\"1\" class=\"dataframe\">\n",
       "  <thead>\n",
       "    <tr style=\"text-align: right;\">\n",
       "      <th></th>\n",
       "      <th>0</th>\n",
       "      <th>1</th>\n",
       "      <th>2</th>\n",
       "    </tr>\n",
       "  </thead>\n",
       "  <tbody>\n",
       "    <tr>\n",
       "      <td>0</td>\n",
       "      <td>34</td>\n",
       "      <td>2014-06-09</td>\n",
       "      <td>1083.58</td>\n",
       "    </tr>\n",
       "    <tr>\n",
       "      <td>1</td>\n",
       "      <td>48</td>\n",
       "      <td>2014-05-03</td>\n",
       "      <td>856.92</td>\n",
       "    </tr>\n",
       "  </tbody>\n",
       "</table>\n",
       "</div>"
      ],
      "text/plain": [
       "    0           1        2\n",
       "0  34  2014-06-09  1083.58\n",
       "1  48  2014-05-03   856.92"
      ]
     },
     "execution_count": 21,
     "metadata": {},
     "output_type": "execute_result"
    }
   ],
   "source": [
    "cursor.execute(\"\"\"\n",
    "SELECT  \n",
    "vendor_id,\n",
    "invoice_date,\n",
    "SUM(invoice_total)\n",
    "FROM invoices \n",
    "WHERE payment_total >500 \n",
    "GROUP BY vendor_id,invoice_date\n",
    "HAVING SUM(invoice_total) > 50\n",
    "ORDER BY vendor_id\n",
    "LIMIT 2\n",
    "\"\"\")\n",
    "query_results_temp = cursor.fetchall()\n",
    "df_temp = pd.DataFrame(query_results_temp)\n",
    "df_temp"
   ]
  },
  {
   "cell_type": "code",
   "execution_count": 22,
   "metadata": {},
   "outputs": [
    {
     "data": {
      "text/html": [
       "<div>\n",
       "<style scoped>\n",
       "    .dataframe tbody tr th:only-of-type {\n",
       "        vertical-align: middle;\n",
       "    }\n",
       "\n",
       "    .dataframe tbody tr th {\n",
       "        vertical-align: top;\n",
       "    }\n",
       "\n",
       "    .dataframe thead th {\n",
       "        text-align: right;\n",
       "    }\n",
       "</style>\n",
       "<table border=\"1\" class=\"dataframe\">\n",
       "  <thead>\n",
       "    <tr style=\"text-align: right;\">\n",
       "      <th></th>\n",
       "      <th>vendor_id</th>\n",
       "      <th>invoice_date</th>\n",
       "      <th>invoice_total</th>\n",
       "    </tr>\n",
       "  </thead>\n",
       "  <tbody>\n",
       "    <tr>\n",
       "      <td>0</td>\n",
       "      <td>34</td>\n",
       "      <td>2014-06-09</td>\n",
       "      <td>1083.58</td>\n",
       "    </tr>\n",
       "    <tr>\n",
       "      <td>1</td>\n",
       "      <td>48</td>\n",
       "      <td>2014-05-03</td>\n",
       "      <td>856.92</td>\n",
       "    </tr>\n",
       "  </tbody>\n",
       "</table>\n",
       "</div>"
      ],
      "text/plain": [
       "   vendor_id invoice_date  invoice_total\n",
       "0         34   2014-06-09        1083.58\n",
       "1         48   2014-05-03         856.92"
      ]
     },
     "execution_count": 22,
     "metadata": {},
     "output_type": "execute_result"
    }
   ],
   "source": [
    "temp = \\\n",
    "invoices[(invoices[\"payment_total\"]>500)].groupby([\"vendor_id\",\"invoice_date\"]) \\\n",
    ".agg({\"invoice_total\":\"sum\"}).reset_index()\n",
    "temp[(temp[\"invoice_total\"]>50)].sort_values(by=[\"vendor_id\"]).head(2)"
   ]
  },
  {
   "cell_type": "markdown",
   "metadata": {},
   "source": [
    "### Aggregation query with `COUNT` & `AVG` for one column & `HAVING` & `WHERE` & select specific columns\n",
    "#### Select only one aggregation term from the column using `.loc[]`"
   ]
  },
  {
   "cell_type": "code",
   "execution_count": 23,
   "metadata": {},
   "outputs": [
    {
     "data": {
      "text/html": [
       "<div>\n",
       "<style scoped>\n",
       "    .dataframe tbody tr th:only-of-type {\n",
       "        vertical-align: middle;\n",
       "    }\n",
       "\n",
       "    .dataframe tbody tr th {\n",
       "        vertical-align: top;\n",
       "    }\n",
       "\n",
       "    .dataframe thead th {\n",
       "        text-align: right;\n",
       "    }\n",
       "</style>\n",
       "<table border=\"1\" class=\"dataframe\">\n",
       "  <thead>\n",
       "    <tr style=\"text-align: right;\">\n",
       "      <th></th>\n",
       "      <th>0</th>\n",
       "      <th>1</th>\n",
       "      <th>2</th>\n",
       "      <th>3</th>\n",
       "    </tr>\n",
       "  </thead>\n",
       "  <tbody>\n",
       "    <tr>\n",
       "      <td>0</td>\n",
       "      <td>123</td>\n",
       "      <td>2014-05-31</td>\n",
       "      <td>2</td>\n",
       "      <td>226.875</td>\n",
       "    </tr>\n",
       "    <tr>\n",
       "      <td>1</td>\n",
       "      <td>123</td>\n",
       "      <td>2014-06-11</td>\n",
       "      <td>2</td>\n",
       "      <td>33.500</td>\n",
       "    </tr>\n",
       "  </tbody>\n",
       "</table>\n",
       "</div>"
      ],
      "text/plain": [
       "     0           1  2        3\n",
       "0  123  2014-05-31  2  226.875\n",
       "1  123  2014-06-11  2   33.500"
      ]
     },
     "execution_count": 23,
     "metadata": {},
     "output_type": "execute_result"
    }
   ],
   "source": [
    "cursor.execute(\"\"\"\n",
    "SELECT  \n",
    "vendor_id,\n",
    "invoice_date,\n",
    "COUNT(invoice_total),\n",
    "AVG(invoice_total)\n",
    "FROM invoices \n",
    "WHERE payment_total >8 \n",
    "GROUP BY vendor_id,invoice_date\n",
    "HAVING COUNT(invoice_total) > 1\n",
    "ORDER BY COUNT(invoice_total), vendor_id\n",
    "LIMIT 2\n",
    "\"\"\")\n",
    "query_results_temp = cursor.fetchall()\n",
    "df_temp = pd.DataFrame(query_results_temp)\n",
    "df_temp"
   ]
  },
  {
   "cell_type": "code",
   "execution_count": 24,
   "metadata": {},
   "outputs": [
    {
     "data": {
      "text/html": [
       "<div>\n",
       "<style scoped>\n",
       "    .dataframe tbody tr th:only-of-type {\n",
       "        vertical-align: middle;\n",
       "    }\n",
       "\n",
       "    .dataframe tbody tr th {\n",
       "        vertical-align: top;\n",
       "    }\n",
       "\n",
       "    .dataframe thead tr th {\n",
       "        text-align: left;\n",
       "    }\n",
       "</style>\n",
       "<table border=\"1\" class=\"dataframe\">\n",
       "  <thead>\n",
       "    <tr>\n",
       "      <th></th>\n",
       "      <th>vendor_id</th>\n",
       "      <th>invoice_date</th>\n",
       "      <th colspan=\"2\" halign=\"left\">invoice_total</th>\n",
       "    </tr>\n",
       "    <tr>\n",
       "      <th></th>\n",
       "      <th></th>\n",
       "      <th></th>\n",
       "      <th>size</th>\n",
       "      <th>mean</th>\n",
       "    </tr>\n",
       "  </thead>\n",
       "  <tbody>\n",
       "    <tr>\n",
       "      <td>73</td>\n",
       "      <td>123</td>\n",
       "      <td>2014-05-31</td>\n",
       "      <td>2</td>\n",
       "      <td>226.875</td>\n",
       "    </tr>\n",
       "    <tr>\n",
       "      <td>76</td>\n",
       "      <td>123</td>\n",
       "      <td>2014-06-11</td>\n",
       "      <td>2</td>\n",
       "      <td>33.500</td>\n",
       "    </tr>\n",
       "  </tbody>\n",
       "</table>\n",
       "</div>"
      ],
      "text/plain": [
       "   vendor_id invoice_date invoice_total         \n",
       "                                   size     mean\n",
       "73       123   2014-05-31             2  226.875\n",
       "76       123   2014-06-11             2   33.500"
      ]
     },
     "execution_count": 24,
     "metadata": {},
     "output_type": "execute_result"
    }
   ],
   "source": [
    "temp = \\\n",
    "invoices[(invoices[\"payment_total\"] > 8)].groupby( \\\n",
    "        [\"vendor_id\",\"invoice_date\"]).agg({\"invoice_total\":['size','mean']}) \\\n",
    "        .reset_index().loc[:,[(\"vendor_id\",\"\"),(\"invoice_date\",\"\"), \\\n",
    "        (\"invoice_total\",\"size\"),(\"invoice_total\",\"mean\")]]\n",
    "\n",
    "temp[temp[(\"invoice_total\",\"size\")]>1].sort_values \\\n",
    "(by=[(\"invoice_total\",\"size\"),(\"vendor_id\",\"\")]).head(2)\n"
   ]
  },
  {
   "cell_type": "markdown",
   "metadata": {},
   "source": [
    "# JOIN SQL query"
   ]
  },
  {
   "cell_type": "markdown",
   "metadata": {},
   "source": [
    "### Simple `INNER` JOIN"
   ]
  },
  {
   "cell_type": "code",
   "execution_count": 25,
   "metadata": {},
   "outputs": [
    {
     "data": {
      "text/html": [
       "<div>\n",
       "<style scoped>\n",
       "    .dataframe tbody tr th:only-of-type {\n",
       "        vertical-align: middle;\n",
       "    }\n",
       "\n",
       "    .dataframe tbody tr th {\n",
       "        vertical-align: top;\n",
       "    }\n",
       "\n",
       "    .dataframe thead th {\n",
       "        text-align: right;\n",
       "    }\n",
       "</style>\n",
       "<table border=\"1\" class=\"dataframe\">\n",
       "  <thead>\n",
       "    <tr style=\"text-align: right;\">\n",
       "      <th></th>\n",
       "      <th>0</th>\n",
       "      <th>1</th>\n",
       "    </tr>\n",
       "  </thead>\n",
       "  <tbody>\n",
       "    <tr>\n",
       "      <td>0</td>\n",
       "      <td>Abbey Office Furnishings</td>\n",
       "      <td>2014-07-05</td>\n",
       "    </tr>\n",
       "    <tr>\n",
       "      <td>1</td>\n",
       "      <td>Bertelsmann Industry Svcs. Inc</td>\n",
       "      <td>2014-06-18</td>\n",
       "    </tr>\n",
       "  </tbody>\n",
       "</table>\n",
       "</div>"
      ],
      "text/plain": [
       "                                0           1\n",
       "0        Abbey Office Furnishings  2014-07-05\n",
       "1  Bertelsmann Industry Svcs. Inc  2014-06-18"
      ]
     },
     "execution_count": 25,
     "metadata": {},
     "output_type": "execute_result"
    }
   ],
   "source": [
    "cursor.execute(\"\"\"\n",
    "SELECT \n",
    "v.vendor_name,\n",
    "i.invoice_date\n",
    "FROM vendors v\n",
    "INNER JOIN invoices i ON v.vendor_id = i.vendor_id\n",
    "ORDER BY v.vendor_name, i.invoice_date\n",
    "LIMIT 2\n",
    "\"\"\")\n",
    "query_results_temp = cursor.fetchall()\n",
    "df_temp = pd.DataFrame(query_results_temp)\n",
    "df_temp"
   ]
  },
  {
   "cell_type": "code",
   "execution_count": 26,
   "metadata": {},
   "outputs": [
    {
     "data": {
      "text/html": [
       "<div>\n",
       "<style scoped>\n",
       "    .dataframe tbody tr th:only-of-type {\n",
       "        vertical-align: middle;\n",
       "    }\n",
       "\n",
       "    .dataframe tbody tr th {\n",
       "        vertical-align: top;\n",
       "    }\n",
       "\n",
       "    .dataframe thead th {\n",
       "        text-align: right;\n",
       "    }\n",
       "</style>\n",
       "<table border=\"1\" class=\"dataframe\">\n",
       "  <thead>\n",
       "    <tr style=\"text-align: right;\">\n",
       "      <th></th>\n",
       "      <th>vendor_name</th>\n",
       "      <th>invoice_date</th>\n",
       "    </tr>\n",
       "  </thead>\n",
       "  <tbody>\n",
       "    <tr>\n",
       "      <td>18</td>\n",
       "      <td>Abbey Office Furnishings</td>\n",
       "      <td>2014-07-05</td>\n",
       "    </tr>\n",
       "    <tr>\n",
       "      <td>28</td>\n",
       "      <td>Bertelsmann Industry Svcs. Inc</td>\n",
       "      <td>2014-06-18</td>\n",
       "    </tr>\n",
       "  </tbody>\n",
       "</table>\n",
       "</div>"
      ],
      "text/plain": [
       "                       vendor_name invoice_date\n",
       "18        Abbey Office Furnishings   2014-07-05\n",
       "28  Bertelsmann Industry Svcs. Inc   2014-06-18"
      ]
     },
     "execution_count": 26,
     "metadata": {},
     "output_type": "execute_result"
    }
   ],
   "source": [
    "vendors.merge(invoices,how=\"inner\",on=\"vendor_id\").sort_values(by=[\"vendor_name\",\"invoice_date\"]) \\\n",
    "[[\"vendor_name\",\"invoice_date\"]].head(2)"
   ]
  },
  {
   "cell_type": "markdown",
   "metadata": {},
   "source": [
    "### Simple `INNER` & `LEFT` JOIN"
   ]
  },
  {
   "cell_type": "code",
   "execution_count": 27,
   "metadata": {},
   "outputs": [
    {
     "data": {
      "text/html": [
       "<div>\n",
       "<style scoped>\n",
       "    .dataframe tbody tr th:only-of-type {\n",
       "        vertical-align: middle;\n",
       "    }\n",
       "\n",
       "    .dataframe tbody tr th {\n",
       "        vertical-align: top;\n",
       "    }\n",
       "\n",
       "    .dataframe thead th {\n",
       "        text-align: right;\n",
       "    }\n",
       "</style>\n",
       "<table border=\"1\" class=\"dataframe\">\n",
       "  <thead>\n",
       "    <tr style=\"text-align: right;\">\n",
       "      <th></th>\n",
       "      <th>0</th>\n",
       "      <th>1</th>\n",
       "      <th>2</th>\n",
       "      <th>3</th>\n",
       "    </tr>\n",
       "  </thead>\n",
       "  <tbody>\n",
       "    <tr>\n",
       "      <td>0</td>\n",
       "      <td>Abbey Office Furnishings</td>\n",
       "      <td>2014-07-05</td>\n",
       "      <td>17.50</td>\n",
       "      <td>17.50</td>\n",
       "    </tr>\n",
       "    <tr>\n",
       "      <td>1</td>\n",
       "      <td>Bertelsmann Industry Svcs. Inc</td>\n",
       "      <td>2014-06-18</td>\n",
       "      <td>6940.25</td>\n",
       "      <td>6940.25</td>\n",
       "    </tr>\n",
       "  </tbody>\n",
       "</table>\n",
       "</div>"
      ],
      "text/plain": [
       "                                0           1        2        3\n",
       "0        Abbey Office Furnishings  2014-07-05    17.50    17.50\n",
       "1  Bertelsmann Industry Svcs. Inc  2014-06-18  6940.25  6940.25"
      ]
     },
     "execution_count": 27,
     "metadata": {},
     "output_type": "execute_result"
    }
   ],
   "source": [
    "cursor.execute(\"\"\"\n",
    "SELECT \n",
    "v.vendor_name,\n",
    "i.invoice_date,\n",
    "i.invoice_total,\n",
    "ili.line_item_amount\n",
    "FROM vendors v\n",
    "INNER JOIN invoices i ON v.vendor_id = i.vendor_id\n",
    "LEFT JOIN invoice_line_items ili ON i.invoice_id = ili.invoice_id\n",
    "ORDER BY v.vendor_name, i.invoice_date\n",
    "LIMIT 2\n",
    "\"\"\")\n",
    "query_results_temp = cursor.fetchall()\n",
    "df_temp = pd.DataFrame(query_results_temp)\n",
    "df_temp"
   ]
  },
  {
   "cell_type": "code",
   "execution_count": 28,
   "metadata": {},
   "outputs": [
    {
     "data": {
      "text/html": [
       "<div>\n",
       "<style scoped>\n",
       "    .dataframe tbody tr th:only-of-type {\n",
       "        vertical-align: middle;\n",
       "    }\n",
       "\n",
       "    .dataframe tbody tr th {\n",
       "        vertical-align: top;\n",
       "    }\n",
       "\n",
       "    .dataframe thead th {\n",
       "        text-align: right;\n",
       "    }\n",
       "</style>\n",
       "<table border=\"1\" class=\"dataframe\">\n",
       "  <thead>\n",
       "    <tr style=\"text-align: right;\">\n",
       "      <th></th>\n",
       "      <th>vendor_name</th>\n",
       "      <th>invoice_date</th>\n",
       "      <th>invoice_total</th>\n",
       "      <th>line_item_amount</th>\n",
       "    </tr>\n",
       "  </thead>\n",
       "  <tbody>\n",
       "    <tr>\n",
       "      <td>18</td>\n",
       "      <td>Abbey Office Furnishings</td>\n",
       "      <td>2014-07-05</td>\n",
       "      <td>17.50</td>\n",
       "      <td>17.50</td>\n",
       "    </tr>\n",
       "    <tr>\n",
       "      <td>31</td>\n",
       "      <td>Bertelsmann Industry Svcs. Inc</td>\n",
       "      <td>2014-06-18</td>\n",
       "      <td>6940.25</td>\n",
       "      <td>6940.25</td>\n",
       "    </tr>\n",
       "  </tbody>\n",
       "</table>\n",
       "</div>"
      ],
      "text/plain": [
       "                       vendor_name invoice_date  invoice_total  \\\n",
       "18        Abbey Office Furnishings   2014-07-05          17.50   \n",
       "31  Bertelsmann Industry Svcs. Inc   2014-06-18        6940.25   \n",
       "\n",
       "    line_item_amount  \n",
       "18             17.50  \n",
       "31           6940.25  "
      ]
     },
     "execution_count": 28,
     "metadata": {},
     "output_type": "execute_result"
    }
   ],
   "source": [
    "vendors.merge(invoices,how=\"inner\",on=\"vendor_id\"). \\\n",
    "merge(invoice_line_items,how=\"left\",on=\"invoice_id\") \\\n",
    "[[\"vendor_name\",\"invoice_date\",\"invoice_total\",\"line_item_amount\"]]. \\\n",
    "sort_values(by=[\"vendor_name\",\"invoice_date\"]).head(2)"
   ]
  }
 ],
 "metadata": {
  "kernelspec": {
   "display_name": "Python 3",
   "language": "python",
   "name": "python3"
  },
  "language_info": {
   "codemirror_mode": {
    "name": "ipython",
    "version": 3
   },
   "file_extension": ".py",
   "mimetype": "text/x-python",
   "name": "python",
   "nbconvert_exporter": "python",
   "pygments_lexer": "ipython3",
   "version": "3.7.4"
  }
 },
 "nbformat": 4,
 "nbformat_minor": 2
}
